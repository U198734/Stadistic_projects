{
 "cells": [
  {
   "cell_type": "markdown",
   "id": "e7fc7546-affc-4a98-9d54-2c6e74b95fb2",
   "metadata": {},
   "source": [
    "## Cryptography\n",
    "### How do you compute the order of an Elliptic Curve?"
   ]
  },
  {
   "cell_type": "raw",
   "id": "6ce1a7fd-22c4-4f84-9da5-8cb4a2466c91",
   "metadata": {},
   "source": [
    "p = 31\n",
    "a = 11   \n",
    "b = 3\n",
    "\n",
    "F = GF(p)\n",
    "E = EllipticCurve(F,[a,b])\n",
    "print(E.cardinality())\n",
    "\n",
    "# >>> 42 \n",
    "\n",
    "E.points()\n",
    "# (2 : 8 : 1), (2 : 23 : 1)\n",
    "\n",
    "P = E(2,8)\n",
    "Q = E(2,23)\n",
    "\n",
    "# 42 = 21 * 2 = 1 * 3 * 7 * 2\n",
    "# Poss orders 42 --> 1,2,3,6,7,14,21,42\n",
    "\n",
    "print(1*P)\n",
    "print(2*P)\n",
    "print(3*P)\n",
    "print(6*P)\n",
    "print(7*P)\n",
    "print(14*P)\n",
    "print(21*P)\n",
    "print(42*P)\n"
   ]
  },
  {
   "cell_type": "raw",
   "id": "6cd39e97-1553-4225-93d4-3f495dbe309b",
   "metadata": {},
   "source": [
    ">>> Outputs : \n",
    "(2 : 8 : 1)\n",
    "(4 : 24 : 1)\n",
    "(27 : 9 : 1)  \n",
    "(0 : 1 : 0)   --> ORDER = 7\n",
    "(0 : 1 : 0)\n",
    "(0 : 1 : 0)\n",
    "\n",
    "We could also do P.order() --> = 7 too\n",
    "\n",
    "We could find another points with other Order, whem T = (5,11) we obtain that\n",
    "\n",
    "(5 : 11 : 1)\n",
    "(4 : 7 : 1)\n",
    "(7 : 12 : 1)\n",
    "(25 : 0 : 1)\n",
    "(25 : 0 : 1)\n",
    "(0 : 1 : 0)\n",
    "\n",
    "Therefore order of T = 42"
   ]
  },
  {
   "cell_type": "markdown",
   "id": "78f84d55-5316-47df-94ab-f2c71c62c894",
   "metadata": {},
   "source": [
    "## We have 3 types of sum\n",
    "### - The one that do not have any coord in common but they are two points of the curve"
   ]
  },
  {
   "cell_type": "raw",
   "id": "d8211907-1763-4da2-9509-6b459f5aaab7",
   "metadata": {},
   "source": [
    "def sum1(x1, y1, x2, y2):\n",
    "        s = F((y1-y2) / (x1 - x2))\n",
    "        x3 = F(s**2 - x1 - x2)\n",
    "        y3 = F(s*(x1-x3) - y1)\n",
    "        print(x3, y3)"
   ]
  },
  {
   "cell_type": "markdown",
   "id": "67301237-7bcf-4fbc-8f97-365c3ac85145",
   "metadata": {},
   "source": [
    "### - When they are P = Q but y != 0"
   ]
  },
  {
   "cell_type": "raw",
   "id": "1b406db1-9fb0-4088-ae22-a333bbdde036",
   "metadata": {},
   "source": [
    "def sum2(x1, y1):\n",
    "    s = F((3* (x1 ** 2 ) + 11 ) / (2*y1))\n",
    "    x3 = F(s**2 - 2*x1)\n",
    "    y3 = F(s* (x1 - x3) -y1)\n",
    "    print(x3, y3)"
   ]
  },
  {
   "cell_type": "markdown",
   "id": "1a1a3c06-9c3e-455e-a35f-2a0f5ad9e03c",
   "metadata": {},
   "source": [
    "### - When they are in vertical, like x1=x2 and y1 = -y2"
   ]
  },
  {
   "cell_type": "markdown",
   "id": "af26f7df-de40-4711-a226-9c54a9626ee2",
   "metadata": {},
   "source": [
    "When they are vertical the sum is the identity value, so P + Q = O"
   ]
  },
  {
   "cell_type": "markdown",
   "id": "d06ddb87-9363-44ee-98fe-98531e340625",
   "metadata": {},
   "source": [
    "### Trying different kind of Sums:"
   ]
  },
  {
   "cell_type": "raw",
   "id": "e428a5ad-ffec-4f98-b9bc-1c9fe8a1360e",
   "metadata": {},
   "source": [
    "- First case: \n",
    "\n",
    "P3 = E(3,1)\n",
    "P4 = E(4,7)\n",
    "\n",
    "sum1(3,1,4,7) \n",
    "P3+P4\n",
    "\n",
    ">>> 29 29\n",
    ">>> (29 : 29 : 1)\n",
    "\n",
    "- Second Case: (sum of the same point with itself)\n",
    "\n",
    "P2 = E(2,23)\n",
    "\n",
    "sum2(2,23)\n",
    "P2+P2\n",
    "\n",
    ">>>  4 7\n",
    ">>> (4 : 7 : 1)\n",
    " \n",
    "- Third case when we have this: (verticall points --> There is no intersection between the lines that cross each other)\n",
    "P = E(2,8)\n",
    "Q = E(2,23)\n",
    "\n",
    "We can see clearly that x1 = x2 --> so P+Q = 0 (0:1:0)"
   ]
  },
  {
   "cell_type": "markdown",
   "id": "b39e0f89-aeab-4091-befe-1b0e82fc7148",
   "metadata": {},
   "source": [
    "#### Some operations that we can use in this field"
   ]
  },
  {
   "cell_type": "raw",
   "id": "00ef0052-910a-4109-be15-d496a83ea487",
   "metadata": {},
   "source": [
    "# Computes the inverse 5^-1 mod P\n",
    "F(1/5)\n",
    "# Computes the 7 * 89  modulo p.\n",
    "F(7*89)"
   ]
  },
  {
   "cell_type": "markdown",
   "id": "31c55f38-9bd6-4e18-863c-0dd554bfb45a",
   "metadata": {},
   "source": [
    "### Checking if the point P is a generator"
   ]
  },
  {
   "cell_type": "raw",
   "id": "a6b4d41a-a162-476a-afbc-edb559b0f1c4",
   "metadata": {},
   "source": [
    "p = 31\n",
    "a = 11   \n",
    "b = 3\n",
    "\n",
    "F = GF(p)\n",
    "E = EllipticCurve(F,[a,b])\n",
    "\n",
    "for P in E.points():\n",
    "    print(\"Point:\", P)\n",
    "    print(\"Order:\", P.order())\n",
    "    \n"
   ]
  },
  {
   "cell_type": "raw",
   "id": "50ca7704-c8d8-478a-80c7-e7ef0bd0b4c2",
   "metadata": {},
   "source": [
    "Output : \n",
    "Point: (0 : 1 : 0)\n",
    "Order: 1\n",
    "Point: (2 : 8 : 1)\n",
    "Order: 7\n",
    "Point: (2 : 23 : 1)\n",
    "Order: 7\n",
    "Point: (3 : 1 : 1)\n",
    "Order: 21\n",
    "Point: (3 : 30 : 1)\n",
    "Order: 21\n",
    "Point: (4 : 7 : 1)\n",
    "Order: 7\n",
    "\n",
    "... 42 values"
   ]
  },
  {
   "cell_type": "markdown",
   "id": "cc23f67b-9282-4594-be29-69c30a827f7e",
   "metadata": {},
   "source": [
    "### To have some counter for each order"
   ]
  },
  {
   "cell_type": "raw",
   "id": "76776b41-97f3-4aed-be4c-68140946eff5",
   "metadata": {},
   "source": [
    "p = 31\n",
    "a = 11\n",
    "b = 3\n",
    "\n",
    "F = GF(p)\n",
    "E = EllipticCurve(F, [a, b])\n",
    "\n",
    "# Initialize a dictionary to store the counts\n",
    "order_counts = {}\n",
    "\n",
    "# Iterate through each point on the elliptic curve\n",
    "for P in E.points():\n",
    "    # Compute the order of the point\n",
    "    order = P.order()\n",
    "    \n",
    "    # Update the count for the order\n",
    "    if order in order_counts:\n",
    "        order_counts[order] += 1\n",
    "    else:\n",
    "        order_counts[order] = 1\n",
    "\n",
    "# Print the counts for each order\n",
    "for order, count in order_counts.items():\n",
    "    print(\"Order:\", order, \"- Number of points:\", count)"
   ]
  },
  {
   "cell_type": "raw",
   "id": "c7b6f9d2-5d82-4958-8bad-009ee2a104bf",
   "metadata": {},
   "source": [
    "Output: \n",
    "Order: 1 - Number of points: 1\n",
    "Order: 7 - Number of points: 6\n",
    "Order: 21 - Number of points: 12\n",
    "Order: 14 - Number of points: 6\n",
    "Order: 42 - Number of points: 12\n",
    "Order: 6 - Number of points: 2\n",
    "Order: 2 - Number of points: 1\n",
    "Order: 3 - Number of points: 2"
   ]
  },
  {
   "cell_type": "markdown",
   "id": "07dfc4ce-53f2-4746-94e3-4ca36633e965",
   "metadata": {},
   "source": [
    "### (b) Find a generator of the subgroup of order 3 of E(Fp)."
   ]
  },
  {
   "cell_type": "raw",
   "id": "bea97883-2a18-48a0-986f-d08ffb2929c7",
   "metadata": {},
   "source": [
    "In this context now:\n",
    "p = 17\n",
    "a = 11\n",
    "b = 3\n",
    "\n",
    "F = GF(p)\n",
    "E = EllipticCurve(F,[a,b])\n",
    "P = E(1,7)\n",
    "\n",
    "We need to check all the points that satisfy this :\n",
    "\n",
    "3*Q = 21*P = 0 \n",
    "\n",
    "Therefore, \n",
    "\n",
    "Q = 7 * P      = 0 \n",
    "2*Q = 14* P    = 0\n",
    "3 * Q = 21 * P = 0\n",
    "\n",
    "So order is 3 generated by (7*P, 14*P, 21*P)\n",
    "\n",
    "We can check it like this:\n",
    "\n",
    "P = E(1,7)\n",
    "P = E(7*P)\n",
    "print(E(P),E(2*P),E(3*P))\n",
    "\n",
    "(10 : 5 : 1) (10 : 12 : 1) (0 : 1 : 0)  --> So the order is 3 !"
   ]
  },
  {
   "cell_type": "markdown",
   "id": "846ce8a2-4482-4110-9ba5-81a29e95fbdd",
   "metadata": {},
   "source": [
    "### c) Find a generator of the subgroup of order 7 of E(Fp)."
   ]
  },
  {
   "cell_type": "raw",
   "id": "941c65e5-4cd0-4b8e-a156-1288f35639b6",
   "metadata": {},
   "source": [
    "We proceed in the same way as before\n",
    "\n",
    "7*Q = 21 * Q = 0\n",
    "\n",
    "So, \n",
    "\n",
    "Q = 3 * P\n",
    "\n",
    "P = E(1,7)\n",
    "P = E(3*P)\n",
    "print(E(P),E(2*P),E(3*P),E(4*P),E(5*P),E(6*P),E(7*P))\n",
    "\n",
    "Obtaining:\n",
    "(2 : 4 : 1) (4 : 3 : 1) (7 : 7 : 1) (7 : 10 : 1) (4 : 14 : 1) (2 : 13 : 1) (0 : 1 : 0)\n",
    "\n",
    "So we confirm that Q = 3*P has order 7"
   ]
  },
  {
   "cell_type": "markdown",
   "id": "25fdb3de-884c-454b-a687-61e4cd383a75",
   "metadata": {},
   "source": [
    "### Diffie Helman Exchange with Elliptic Curves \n",
    "\n",
    "#### i) What is the number of possible keys?\n"
   ]
  },
  {
   "cell_type": "raw",
   "id": "e8df4297-5138-4b9c-9499-53064fce610d",
   "metadata": {},
   "source": [
    "Knowing this:\n",
    "\n",
    "p = 67 \n",
    "a = 13 \n",
    "b = 3 \n",
    "G = (1, 33)\n",
    "\n",
    "What is the number of possible keys?\n",
    "\n",
    "E.cardinality()\n",
    ">>> 61 cardinaly --> 60 possible keys because the identity cant be the key\n",
    "\n",
    "The key in the end will be K = m * G --> so will be the same as the order of G\n",
    "possible orders --> 1, 61 \n",
    "So either point is order 1 or a GENERATOR, so now we are sure that any curve of the point are generator so now we are sure that is 60\n"
   ]
  },
  {
   "cell_type": "markdown",
   "id": "50473598-331d-40f7-aa81-0af41b4c94aa",
   "metadata": {},
   "source": [
    "#### (ii) If Bob sends you the message QB = (18, 21), and your secret is a = 35, what is the secret key on which you and Bob will agree?"
   ]
  },
  {
   "cell_type": "raw",
   "id": "ad9f7806-8b91-484c-8b00-5b2d5bfddc09",
   "metadata": {},
   "source": [
    "QB = E(18, 21)\n",
    "ska = 35\n",
    "\n",
    "sk = E(QB * ska)\n",
    "sk\n",
    "\n",
    "The secret key is --> (5 : 40 : 1)"
   ]
  },
  {
   "cell_type": "markdown",
   "id": "a97513ab-528a-4393-aae0-e1d1ce183ef4",
   "metadata": {},
   "source": [
    "#### Exercise 3 Your Lifted ElGamal public key is pk = (G = (1, 33), Y = (66, 18)) and the secret key x = 22.\n",
    "#### The message space is m ∈ {0, 1}. Decrypt the ciphertext C = (C1, C2) = ((37, 63),(8, 4))."
   ]
  },
  {
   "cell_type": "raw",
   "id": "ea902833-40c2-453f-a22a-c849ee589cb2",
   "metadata": {},
   "source": [
    "p = 67 \n",
    "a = 13 \n",
    "b = 3 \n",
    "\n",
    "F = GF(p)\n",
    "E = EllipticCurve(F, [a,b])\n",
    "\n",
    "G = E(1, 33)\n",
    "Y = E(66,18)\n",
    "x = 22\n",
    "Y = x * G\n",
    "\n",
    "# the decryption could be like: \n",
    "\n",
    "mG = c2 - c1*x\n",
    "\n",
    ">>> (1, 33)  \n",
    "\n",
    "if mG = G :\n",
    "    return m = 1\n",
    "else:\n",
    "    return m = 0\n",
    "   \n",
    "Also we could do it:\n",
    "\n",
    "print(G.discrete_log(c2 - x*c1))\n",
    "\n",
    ">>> 1 "
   ]
  },
  {
   "cell_type": "markdown",
   "id": "629ffaf9-82c9-4613-95c3-81b46d7f6b7d",
   "metadata": {},
   "source": [
    "\n",
    "### Example of Lifted ElGamal"
   ]
  },
  {
   "cell_type": "raw",
   "id": "39567a3f-3b92-49be-ae3d-b2971befb005",
   "metadata": {},
   "source": [
    "p = 67\n",
    "a = 13\n",
    "b = 3\n",
    "\n",
    "F = GF(p)\n",
    "E = EllipticCurve(F,[a,b])\n",
    "\n",
    "x = 22\n",
    "G = E(1,33)\n",
    "\n",
    "Y = x*G\n",
    "\n",
    "# Alguns punts : (1 : 34 : 1), (2 : 29 : 1), (2 : 38 : 1), (5 : 27 : 1), (5 : 40 : 1), (6 : 30 : 1)\n",
    "# The ciphertext could be encrypted in this way\n",
    "# r = 3\n",
    "# c1 = E(3 * G)           --> r * G\n",
    "# c2 = E(3 * Y + 0 * G)   --> r * Y + x * G   (where Y = x * G)\n",
    "\n",
    "c1 = E(62,9)\n",
    "c2 = E(33,51)\n",
    "\n",
    "mG = E(c2-x*c1)\n",
    "mG\n",
    "\n",
    ">>> (0:1:0) --> Therefore we know that m = 0\n",
    "\n",
    "\n",
    "# Directly we can do \n",
    "\n",
    "print(G.discrete_log(c2 - x*c1))\n",
    "\n",
    ">>> 0 "
   ]
  },
  {
   "cell_type": "markdown",
   "id": "44fc834a-f0c8-4f9e-b684-a1140c2a951f",
   "metadata": {},
   "source": [
    "#### Some Diffie-Hellman exercices\n",
    "\n",
    "#### - 1. Consider the Diffie-Hellman protocol with **g = 3** and **p=353**. Alice chooses **a = 97** and Bob chooses **b = 233**. Compute A, B and the key Kap."
   ]
  },
  {
   "cell_type": "code",
   "execution_count": 8,
   "id": "9572eecc-e1b4-4110-be70-039fdc795440",
   "metadata": {},
   "outputs": [
    {
     "name": "stdout",
     "output_type": "stream",
     "text": [
      "Alice has de key = 160\n",
      "Bob has de key   = 160\n"
     ]
    }
   ],
   "source": [
    "g = 3\n",
    "p = 353\n",
    "a = 97\n",
    "b = 233\n",
    "\n",
    "ga = g**a % p\n",
    "gb = g**b % p\n",
    "\n",
    "# Alice sends to Bob ga\n",
    "# Bob sends to Alice gb\n",
    "\n",
    "# Alice computes (g^b)^a\n",
    "gba = gb ** a % p\n",
    "# Bob computes (g^a)^b\n",
    "gab = ga ** b % p\n",
    "\n",
    "print('Alice has de key =',gba)\n",
    "print('Bob has de key   =',gab)\n"
   ]
  },
  {
   "cell_type": "markdown",
   "id": "de1e782e-992c-4b4c-92ed-d7330a77e7c4",
   "metadata": {},
   "source": [
    "#### - 2. Design an extension of the Diffie-Hellman protocol that allows three parties Alice, Bob and Carol to generate a common secret key."
   ]
  },
  {
   "cell_type": "code",
   "execution_count": 17,
   "id": "6b377871-d33d-4fb8-b40a-928822c72e8c",
   "metadata": {},
   "outputs": [],
   "source": [
    "from sympy import isprime\n",
    "import math\n",
    "def are_coprime(a, b):\n",
    "    return math.gcd(a, b) == 1"
   ]
  },
  {
   "cell_type": "code",
   "execution_count": 16,
   "id": "920c65da-5820-468a-b9de-84ffb093f335",
   "metadata": {},
   "outputs": [
    {
     "name": "stdout",
     "output_type": "stream",
     "text": [
      "Alice has de key   = 77\n",
      "Bob has de key     = 77\n",
      "Carol has de key   = 77\n"
     ]
    }
   ],
   "source": [
    "g = 3\n",
    "p = 353\n",
    "a = 97\n",
    "b = 233\n",
    "c = 7\n",
    "\n",
    "ga = g**a % p\n",
    "gb = g**b % p\n",
    "gc = g**c % p\n",
    "\n",
    "# 1\n",
    "# Alice sends to Bob --> ga\n",
    "gab = ga ** b % p\n",
    "\n",
    "# Bob sends to Carol --> gab\n",
    "gabc = gab ** c % p\n",
    "\n",
    "\n",
    "# 2\n",
    "# Bob sends to Carol --> gb\n",
    "gbc = gb ** c % p\n",
    "\n",
    "# Carol sends to Alice --> gbc\n",
    "gbca = gbc ** a % p\n",
    "\n",
    "\n",
    "# 3\n",
    "# Alice sends to Carol  --> ga\n",
    "gac = ga ** c % p\n",
    "\n",
    "# Carol Sens to Bob --> gac\n",
    "gacb = gac ** b % p\n",
    "\n",
    "print('Alice has de key   =',gbca)\n",
    "print('Bob has de key     =',gacb)\n",
    "print('Carol has de key   =',gabc)"
   ]
  }
 ],
 "metadata": {
  "kernelspec": {
   "display_name": "Python 3 (ipykernel)",
   "language": "python",
   "name": "python3"
  },
  "language_info": {
   "codemirror_mode": {
    "name": "ipython",
    "version": 3
   },
   "file_extension": ".py",
   "mimetype": "text/x-python",
   "name": "python",
   "nbconvert_exporter": "python",
   "pygments_lexer": "ipython3",
   "version": "3.9.12"
  }
 },
 "nbformat": 4,
 "nbformat_minor": 5
}
