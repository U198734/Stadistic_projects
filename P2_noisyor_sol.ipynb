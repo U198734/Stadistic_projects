{
 "cells": [
  {
   "cell_type": "code",
   "execution_count": 1,
   "metadata": {
    "id": "6Jo5fFxp05k1"
   },
   "outputs": [],
   "source": [
    "!pip install -q pgmpy"
   ]
  },
  {
   "cell_type": "markdown",
   "metadata": {
    "id": "YwrwIoNG0qos"
   },
   "source": [
    "# Noisy-OR model\n",
    "\n",
    "## Deterministic OR\n",
    "\n",
    "It is easy to see that an OR between many variables can factorize as a product of tables involving only three variables\n",
    "\n",
    "$$\n",
    "\\begin{align}\\label{eq:or}\n",
    " \\text{OR}(y|x_1,x_2,x_3) & = \\sum_{s\\in\\{0,1\\}} \\text{OR}(y|x_3,s)\\text{OR}(s|x_1,x_2).\n",
    "\\end{align}\n",
    "$$"
   ]
  },
  {
   "cell_type": "markdown",
   "metadata": {
    "id": "O2nNdwQW0qow"
   },
   "source": [
    "## Noisy OR\n",
    "\n",
    "The noisy-OR model \\[1\\] represents a joint probability distribution composed of an effect variable $y$ that has $K$ parents $x_k, k=1,...,K$. For simplicity, we will assume that all of them are binary. It factorizes as\n",
    "\n",
    "$$\n",
    "\\begin{align}\n",
    " P(y=0|x_1,...,x_K) & = P(y=0|L)\\prod_{k=1}^{K} P(y=0|x_k)\\\\\n",
    " & = (1-\\lambda_0)\\prod_{k=1}^{K} (1-\\lambda_k)^{x_k},\n",
    "\\end{align}\n",
    "$$\n",
    "\n",
    "where $\\lambda_k$ is used to parameterize the probability that the parent $k$, if present, could alone determine the effect to have a positive outcome. The parameter $\\lambda_0 = P(y=1|L)$, also known as leak probability, is the probability that $y$ occurs by means other than the specified parents.\n",
    "\n",
    "Note that since $x_k$ appears in the exponent, when the parent is not active ($x_k=0$), the corresponding term is one, so the probability is not affected by $\\lambda_k$. On the contrary, when $x_k=1$, the lower the value of $\\lambda_k$, the less likely will be that the effect is present, and vice-versa."
   ]
  },
  {
   "cell_type": "markdown",
   "metadata": {
    "id": "-MoaH7cH0qox"
   },
   "source": [
    "## Using exponentially large OR tables\n",
    "A simple way to represent this model consists of $K$ factors (one for each parent $x_k$) that have a direct relation with a hidden variable $z_k$. These potentials encode the local probability that the effect is active or not, given the value of the cause only:\n",
    "<table>\n",
    "    <tr><th>$x_k$</th><th>$z_k$</th><th>$P(z_k|x_k)$</th></tr>\n",
    "    <tr><td> 0 </td> <td> 0 </td> <td> $1$ </td></tr>\n",
    "    <tr><td> 0 </td> <td> 1 </td> <td> $0$ </td></tr>\n",
    "    <tr><td> 1 </td> <td> 0 </td> <td> $(1-\\lambda_k)$ </td></tr>\n",
    "    <tr><td> 1 </td> <td> 1 </td> <td> $\\lambda_k$ </td></tr>\n",
    "</table>\n",
    "\n",
    "An additional leak factor $L$ is also introduced to account for the term $(1-\\lambda_0)$ and $L$ is usually set to $1$ (i.e. $P(L=1)=1$).\n",
    "\n",
    "All these factors are combined using a deterministic OR factor. The size of this gate grows exponentially in $K$. For example, for $K=3$:\n",
    "<table>\n",
    "    <tr><th> $z_0$ </th> <th> $z_1$ </th> <th> $z_2$ </th> <th> $z_3$ </th> <th> $P(y=0|z_0,z_1,z_2,z_3)$ </th></tr>\n",
    "    <tr><td> 0 </td> <td> 0 </td> <td> 0 </td> <td> 0 </td> <td> $1$ </td></tr>\n",
    "    <tr><td> 0 </td> <td> 0 </td> <td> 0 </td> <td> 1 </td> <td> $0$ </td></tr>\n",
    "    <tr><td> 0 </td> <td> 0 </td> <td> 1 </td> <td> 0 </td> <td> $0$ </td></tr>\n",
    "    <tr><td> 0 </td> <td> 0 </td> <td> 1 </td> <td> 1 </td> <td> $0$ </td></tr>\n",
    "    <tr><td> 0 </td> <td> 1 </td> <td> 0 </td> <td> 0 </td> <td> $0$ </td></tr>\n",
    "    <tr><td> 0 </td> <td> 1 </td> <td> 0 </td> <td> 1 </td> <td> $0$ </td></tr>\n",
    "    <tr><td> 0 </td> <td> 1 </td> <td> 1 </td> <td> 0 </td> <td> $0$ </td></tr>\n",
    "    <tr><td> 0 </td> <td> 1 </td> <td> 1 </td> <td> 1 </td> <td> $0$ </td></tr>\n",
    "    <tr><td> 1 </td> <td> 0 </td> <td> 0 </td> <td> 0 </td> <td> $0$ </td></tr>\n",
    "    <tr><td> 1 </td> <td> 0 </td> <td> 0 </td> <td> 1 </td> <td> $0$ </td></tr>\n",
    "    <tr><td> 1 </td> <td> 0 </td> <td> 1 </td> <td> 0 </td> <td> $0$ </td></tr>\n",
    "    <tr><td> 1 </td> <td> 0 </td> <td> 1 </td> <td> 1 </td> <td> $0$ </td></tr>\n",
    "    <tr><td> 1 </td> <td> 1 </td> <td> 0 </td> <td> 0 </td> <td> $0$ </td></tr>\n",
    "    <tr><td> 1 </td> <td> 1 </td> <td> 0 </td> <td> 1 </td> <td> $0$ </td></tr>\n",
    "    <tr><td> 1 </td> <td> 1 </td> <td> 1 </td> <td> 0 </td> <td> $0$ </td></tr>\n",
    "    <tr><td> 1 </td> <td> 1 </td> <td> 1 </td> <td> 1 </td> <td> $0$ </td></tr>\n",
    "</table>\n",
    "<br><center>Table 1: A deterministic OR factor: full table for four inputs</center>\n",
    "\n",
    "Note that we also need to specify the prior probabilities for $x_k, \\forall k$. For simplicity, we will assume they are uniform."
   ]
  },
  {
   "cell_type": "markdown",
   "metadata": {
    "id": "0H0neqrd0qoz"
   },
   "source": [
    "Create a model like that and experiment with different values of $\\boldsymbol{\\lambda}$. For example, assume $\\lambda_0=10^{-3},\\lambda_1=0.9,\\lambda_2=0.5,\\lambda_3=0.99$. The corresponding graphical model is <img src=\"https://drive.google.com/uc?export=view&id=1xRXh7Yom25kkRraxilSjHeJsl69Vgkx5\" width=350 height=230>\n",
    "\n",
    "Construct this model using python."
   ]
  },
  {
   "cell_type": "code",
   "execution_count": 2,
   "metadata": {
    "colab": {
     "base_uri": "https://localhost:8080/"
    },
    "id": "mNgznMiY0qo0",
    "outputId": "b5a3e281-6a1b-4336-98ec-a7ccc3882953"
   },
   "outputs": [
    {
     "name": "stdout",
     "output_type": "stream",
     "text": [
      "Sum of joint prob: 0.9999999999999999\n",
      "+-------+-------+-------+------+-------------------+\n",
      "| x3    | x2    | x1    | y    |   phi(x3,x2,x1,y) |\n",
      "+=======+=======+=======+======+===================+\n",
      "| x3(0) | x2(0) | x1(0) | y(0) |            0.9990 |\n",
      "+-------+-------+-------+------+-------------------+\n",
      "| x3(0) | x2(0) | x1(0) | y(1) |            0.0010 |\n",
      "+-------+-------+-------+------+-------------------+\n",
      "| x3(0) | x2(0) | x1(1) | y(0) |            0.0999 |\n",
      "+-------+-------+-------+------+-------------------+\n",
      "| x3(0) | x2(0) | x1(1) | y(1) |            0.9001 |\n",
      "+-------+-------+-------+------+-------------------+\n",
      "| x3(0) | x2(1) | x1(0) | y(0) |            0.4995 |\n",
      "+-------+-------+-------+------+-------------------+\n",
      "| x3(0) | x2(1) | x1(0) | y(1) |            0.5005 |\n",
      "+-------+-------+-------+------+-------------------+\n",
      "| x3(0) | x2(1) | x1(1) | y(0) |            0.0500 |\n",
      "+-------+-------+-------+------+-------------------+\n",
      "| x3(0) | x2(1) | x1(1) | y(1) |            0.9501 |\n",
      "+-------+-------+-------+------+-------------------+\n",
      "| x3(1) | x2(0) | x1(0) | y(0) |            0.0100 |\n",
      "+-------+-------+-------+------+-------------------+\n",
      "| x3(1) | x2(0) | x1(0) | y(1) |            0.9900 |\n",
      "+-------+-------+-------+------+-------------------+\n",
      "| x3(1) | x2(0) | x1(1) | y(0) |            0.0010 |\n",
      "+-------+-------+-------+------+-------------------+\n",
      "| x3(1) | x2(0) | x1(1) | y(1) |            0.9990 |\n",
      "+-------+-------+-------+------+-------------------+\n",
      "| x3(1) | x2(1) | x1(0) | y(0) |            0.0050 |\n",
      "+-------+-------+-------+------+-------------------+\n",
      "| x3(1) | x2(1) | x1(0) | y(1) |            0.9950 |\n",
      "+-------+-------+-------+------+-------------------+\n",
      "| x3(1) | x2(1) | x1(1) | y(0) |            0.0005 |\n",
      "+-------+-------+-------+------+-------------------+\n",
      "| x3(1) | x2(1) | x1(1) | y(1) |            0.9995 |\n",
      "+-------+-------+-------+------+-------------------+\n"
     ]
    }
   ],
   "source": [
    "# SOLUTION\n",
    "\n",
    "from pgmpy.factors.discrete import DiscreteFactor\n",
    "import numpy as np\n",
    "\n",
    "p = dict()\n",
    "\n",
    "n_vars = 3\n",
    "l = [10**(-3), 0.9, 0.5, 0.99]\n",
    "\n",
    "def noisy_factor(z, x, _lambda):\n",
    "    \"\"\"\n",
    "    Given binary variables x and z, returns p(z|x) according to _lambda.\n",
    "    \"\"\"\n",
    "    return DiscreteFactor(variables=[x, z],\n",
    "                          cardinality=[2, 2],\n",
    "                          values=[1, 0, (1-_lambda), _lambda])\n",
    "\n",
    "# Construct p(z_k|x_k)\n",
    "p[\"z0|L\"] = noisy_factor(\"z0\", \"L\", l[0])\n",
    "p[\"z1|x1\"] = noisy_factor(\"z1\", \"x1\", l[1])\n",
    "p[\"z2|x2\"] = noisy_factor(\"z2\", \"x2\", l[2])\n",
    "p[\"z3|x3\"] = noisy_factor(\"z3\", \"x3\", l[3])\n",
    "\n",
    "\n",
    "# Deterministic OR\n",
    "p[\"y|z0,z1,z2,z3\"] = DiscreteFactor(variables=[\"y\", \"z0\", \"z1\", \"z2\", \"z3\"],\n",
    "                                    cardinality=[2, 2, 2, 2, 2],\n",
    "                                    values=[1,0,0,0,0,0,0,0,\n",
    "                                            0,0,0,0,0,0,0,0,\n",
    "                                            0,1,1,1,1,1,1,1,\n",
    "                                            1,1,1,1,1,1,1,1])\n",
    "\n",
    "def prior(x, p0):\n",
    "    return DiscreteFactor(variables=[x],\n",
    "                          cardinality=[2],\n",
    "                          values=[p0, 1-p0])\n",
    "\n",
    "# Assume uniform priors for p(x_i)\n",
    "p[\"x1\"] = prior(\"x1\", 0.5)\n",
    "p[\"x2\"] = prior(\"x2\", 0.5)\n",
    "p[\"x3\"] = prior(\"x3\", 0.5)\n",
    "# Assume p(L=1)=1  --> com fariem p[L] = 1 - po, en aquest cas posem p0 = 0 per que sigui p[L] = 1 - 0 = 1 \n",
    "p[\"L\"] = prior(\"L\", 0)\n",
    "\n",
    "p[\"y,x1,x2,x3,L,z0,z1,z2,z3\"] = p[\"y|z0,z1,z2,z3\"]*p[\"z0|L\"]*p[\"z1|x1\"]*p[\"z2|x2\"]*p[\"z3|x3\"]*p[\"x1\"]*p[\"x2\"]*p[\"x3\"]*p[\"L\"]\n",
    "print(\"Sum of joint prob:\", np.sum(p[\"y,x1,x2,x3,L,z0,z1,z2,z3\"].values))\n",
    "\n",
    "p[\"y,x1,x2,x3\"] = p[\"y,x1,x2,x3,L,z0,z1,z2,z3\"].marginalize([\"L\", \"z0\", \"z1\", \"z2\", \"z3\"], inplace=False)\n",
    "p[\"y|x1,x2,x3\"] = p[\"y,x1,x2,x3\"] / p[\"y,x1,x2,x3\"].marginalize([\"y\"], inplace=False)\n",
    "print(p[\"y|x1,x2,x3\"])"
   ]
  },
  {
   "cell_type": "markdown",
   "metadata": {
    "id": "qdsGBiXp0qo3"
   },
   "source": [
    "Answer the following questions:\n",
    "\n",
    "\n",
    "1. What is $P_1=P(y=1|x_1=0,x_2=0,x_3=1)$?"
   ]
  },
  {
   "cell_type": "markdown",
   "metadata": {
    "id": "KtnS81GF0qo4"
   },
   "source": [
    "**Solution:**\n",
    "If only parent $x_3$ is ON, we have $P_1=0.9900001$, which is $\\lambda_3$."
   ]
  },
  {
   "cell_type": "code",
   "execution_count": 3,
   "metadata": {
    "colab": {
     "base_uri": "https://localhost:8080/"
    },
    "id": "Z0aSDPoH0qo4",
    "outputId": "80fa25a2-0d32-4372-8b9c-d6abf90293b2"
   },
   "outputs": [
    {
     "name": "stdout",
     "output_type": "stream",
     "text": [
      "+---------+\n",
      "|   phi() |\n",
      "+=========+\n",
      "|  0.9900 |\n",
      "+---------+\n"
     ]
    }
   ],
   "source": [
    "# SOLUTION\n",
    "\n",
    "print(p[\"y|x1,x2,x3\"].reduce([(\"y\",1), (\"x1\",0), (\"x2\",0), (\"x3\",1)], inplace=False))"
   ]
  },
  {
   "cell_type": "markdown",
   "metadata": {
    "id": "EOEN9cvm0qo5"
   },
   "source": [
    "2. Argue why $P_2=P(y=1|x_1=0,x_2=1,x_3=0)$ is smaller than $P_1$."
   ]
  },
  {
   "cell_type": "markdown",
   "metadata": {
    "id": "OX5WyT8L0qo6"
   },
   "source": [
    "**Solution:**\n",
    "If only parent $x_2$ is ON, we have $P_2=0.500005$. The intuition is right, since $x_2$ has a lower probability of activating $y$ ($\\lambda_2<\\lambda_3$)"
   ]
  },
  {
   "cell_type": "code",
   "execution_count": 4,
   "metadata": {
    "colab": {
     "base_uri": "https://localhost:8080/"
    },
    "id": "_6WOe6oD0qo6",
    "outputId": "302965b2-8386-4d3a-9029-885745057c72"
   },
   "outputs": [
    {
     "name": "stdout",
     "output_type": "stream",
     "text": [
      "+---------+\n",
      "|   phi() |\n",
      "+=========+\n",
      "|  0.5005 |\n",
      "+---------+\n"
     ]
    }
   ],
   "source": [
    "# SOLUTION\n",
    "\n",
    "print(p[\"y|x1,x2,x3\"].reduce([(\"y\",1), (\"x1\",0), (\"x2\",1), (\"x3\",0)], inplace=False))"
   ]
  },
  {
   "cell_type": "markdown",
   "metadata": {
    "id": "ELBU9e3i0qo7"
   },
   "source": [
    "3. Relate $P_3=P(y=1|x_1=0,x_2=1,x_3=1)$ with $P_2$ and $P_1$."
   ]
  },
  {
   "cell_type": "markdown",
   "metadata": {
    "id": "TvqMHUnb0qo7"
   },
   "source": [
    "**Solution:**\n",
    "If both $x_2$ and $x_3$ },\\parents are active, $P_3=0.99500005$, i.e., the probability is higher that $P_1$ and $P_2$ individually, because both parents contribute to the activation of $y$, so the intuition is right again.\n"
   ]
  },
  {
   "cell_type": "code",
   "execution_count": 5,
   "metadata": {
    "colab": {
     "base_uri": "https://localhost:8080/"
    },
    "id": "Fy2yiU2p0qo7",
    "outputId": "9b3b4a3d-f45d-4223-83c3-8efd0fbbffa2"
   },
   "outputs": [
    {
     "name": "stdout",
     "output_type": "stream",
     "text": [
      "+---------+\n",
      "|   phi() |\n",
      "+=========+\n",
      "|  0.9950 |\n",
      "+---------+\n"
     ]
    }
   ],
   "source": [
    "# SOLUTION\n",
    "\n",
    "print(p[\"y|x1,x2,x3\"].reduce([(\"y\",1), (\"x1\",0), (\"x2\",1), (\"x3\",1)], inplace=False))"
   ]
  },
  {
   "cell_type": "markdown",
   "metadata": {
    "id": "zTrPfa_u0qo8"
   },
   "source": [
    "4. Relate $P_4=P(y=1|x_1=0,x_2=0,x_3=0)$ with all the previous probabilities."
   ]
  },
  {
   "cell_type": "markdown",
   "metadata": {
    "id": "OE0hOUmM0qo8"
   },
   "source": [
    "**Solution:**\n",
    "If no parents are active, then $P_4=10^{-3}$, a very small (but nonzero) probability that $y$ is active."
   ]
  },
  {
   "cell_type": "code",
   "execution_count": 6,
   "metadata": {
    "colab": {
     "base_uri": "https://localhost:8080/"
    },
    "id": "5mbUeoSp0qo8",
    "outputId": "6c5e87bc-1a13-42b4-b564-b5531d9d32a9"
   },
   "outputs": [
    {
     "name": "stdout",
     "output_type": "stream",
     "text": [
      "+---------+\n",
      "|   phi() |\n",
      "+=========+\n",
      "|  0.0010 |\n",
      "+---------+\n"
     ]
    }
   ],
   "source": [
    "# SOLUTION\n",
    "\n",
    "print(p[\"y|x1,x2,x3\"].reduce([(\"y\",1), (\"x1\",0), (\"x2\",0), (\"x3\",0)], inplace=False))"
   ]
  },
  {
   "cell_type": "markdown",
   "metadata": {
    "id": "jfp0u04G0qo9"
   },
   "source": [
    "5. What are the posterior probabilities of each individual parent, if we observe that $y=1$? How do they change if we observe that $y=0$?"
   ]
  },
  {
   "cell_type": "code",
   "execution_count": 7,
   "metadata": {
    "colab": {
     "base_uri": "https://localhost:8080/"
    },
    "id": "Km6rYIKi0qo9",
    "outputId": "4728aad9-616e-4d71-f132-63620139a49f"
   },
   "outputs": [
    {
     "name": "stdout",
     "output_type": "stream",
     "text": [
      "Sum of values of p(y,x1,x2,x3): 1.0\n",
      "\n",
      "p(x1|y)\n",
      " +------+-------+-------------+\n",
      "| y    | x1    |   phi(y,x1) |\n",
      "+======+=======+=============+\n",
      "| y(0) | x1(0) |      0.9091 |\n",
      "+------+-------+-------------+\n",
      "| y(0) | x1(1) |      0.0909 |\n",
      "+------+-------+-------------+\n",
      "| y(1) | x1(0) |      0.3925 |\n",
      "+------+-------+-------------+\n",
      "| y(1) | x1(1) |      0.6075 |\n",
      "+------+-------+-------------+\n",
      "\n",
      "p(x2|y)\n",
      " +------+-------+-------------+\n",
      "| y    | x2    |   phi(y,x2) |\n",
      "+======+=======+=============+\n",
      "| y(0) | x2(0) |      0.6667 |\n",
      "+------+-------+-------------+\n",
      "| y(0) | x2(1) |      0.3333 |\n",
      "+------+-------+-------------+\n",
      "| y(1) | x2(0) |      0.4562 |\n",
      "+------+-------+-------------+\n",
      "| y(1) | x2(1) |      0.5438 |\n",
      "+------+-------+-------------+\n",
      "\n",
      "p(x3|y)\n",
      " +-------+------+-------------+\n",
      "| x3    | y    |   phi(x3,y) |\n",
      "+=======+======+=============+\n",
      "| x3(0) | y(0) |      0.9901 |\n",
      "+-------+------+-------------+\n",
      "| x3(0) | y(1) |      0.3712 |\n",
      "+-------+------+-------------+\n",
      "| x3(1) | y(0) |      0.0099 |\n",
      "+-------+------+-------------+\n",
      "| x3(1) | y(1) |      0.6288 |\n",
      "+-------+------+-------------+\n"
     ]
    }
   ],
   "source": [
    "# SOLUTION\n",
    "\n",
    "# Assume uniform prior\n",
    "p[\"x1\"] = DiscreteFactor(variables=[\"x1\"], cardinality=[2], values=[0.5, 0.5])\n",
    "p[\"x2\"] = DiscreteFactor(variables=[\"x2\"], cardinality=[2], values=[0.5, 0.5])\n",
    "p[\"x3\"] = DiscreteFactor(variables=[\"x3\"], cardinality=[2], values=[0.5, 0.5])\n",
    "\n",
    "p[\"y,x1,x2,x3\"] = p[\"y|x1,x2,x3\"]*p[\"x1\"]*p[\"x2\"]*p[\"x3\"]\n",
    "print(\"Sum of values of p(y,x1,x2,x3):\", np.sum(p[\"y,x1,x2,x3\"].values)) # Make sure it is a probability distribution\n",
    "# print(p[\"y,x1,x2,x3\"])\n",
    "\n",
    "p[\"y\"] =  p[\"y,x1,x2,x3\"].marginalize([\"x1\", \"x2\", \"x3\"], inplace=False)\n",
    "p[\"x1|y\"] = p[\"y,x1,x2,x3\"].marginalize([\"x2\", \"x3\"], inplace=False) / p[\"y\"]\n",
    "p[\"x2|y\"] = p[\"y,x1,x2,x3\"].marginalize([\"x1\", \"x3\"], inplace=False) / p[\"y\"]\n",
    "p[\"x3|y\"] = p[\"y,x1,x2,x3\"].marginalize([\"x1\", \"x2\"], inplace=False) / p[\"y\"]\n",
    "\n",
    "print(\"\\np(x1|y)\\n\", p[\"x1|y\"])\n",
    "print(\"\\np(x2|y)\\n\", p[\"x2|y\"])\n",
    "print(\"\\np(x3|y)\\n\", p[\"x3|y\"])"
   ]
  },
  {
   "cell_type": "markdown",
   "metadata": {
    "id": "te5tsTsU0qo9"
   },
   "source": [
    "## Efficient representation\n",
    "\n",
    "The previous networks contains a factor with exponetial size, which renders it unfeasible for large $K$. Based on the factorization of the deterministic OR shown at the top, can you think of a more efficient way to represent the noisy-OR model?\n",
    "\n",
    "Answer the following questions:\n",
    "\n",
    "1. Using the efficient representation, compute the probabilities of the previous subsection and check they are equivalent"
   ]
  },
  {
   "cell_type": "code",
   "execution_count": 8,
   "metadata": {
    "colab": {
     "base_uri": "https://localhost:8080/"
    },
    "id": "VH8fGWgT0qo-",
    "outputId": "88b15823-2040-4c8a-836b-6197d52a3a01"
   },
   "outputs": [
    {
     "name": "stdout",
     "output_type": "stream",
     "text": [
      "Sum of joint prob: 1.0\n",
      "+-------+-------+-------+------+-------------------+\n",
      "| x3    | x2    | x1    | y    |   phi(x3,x2,x1,y) |\n",
      "+=======+=======+=======+======+===================+\n",
      "| x3(0) | x2(0) | x1(0) | y(0) |            0.9990 |\n",
      "+-------+-------+-------+------+-------------------+\n",
      "| x3(0) | x2(0) | x1(0) | y(1) |            0.0010 |\n",
      "+-------+-------+-------+------+-------------------+\n",
      "| x3(0) | x2(0) | x1(1) | y(0) |            0.0999 |\n",
      "+-------+-------+-------+------+-------------------+\n",
      "| x3(0) | x2(0) | x1(1) | y(1) |            0.9001 |\n",
      "+-------+-------+-------+------+-------------------+\n",
      "| x3(0) | x2(1) | x1(0) | y(0) |            0.4995 |\n",
      "+-------+-------+-------+------+-------------------+\n",
      "| x3(0) | x2(1) | x1(0) | y(1) |            0.5005 |\n",
      "+-------+-------+-------+------+-------------------+\n",
      "| x3(0) | x2(1) | x1(1) | y(0) |            0.0499 |\n",
      "+-------+-------+-------+------+-------------------+\n",
      "| x3(0) | x2(1) | x1(1) | y(1) |            0.9501 |\n",
      "+-------+-------+-------+------+-------------------+\n",
      "| x3(1) | x2(0) | x1(0) | y(0) |            0.0100 |\n",
      "+-------+-------+-------+------+-------------------+\n",
      "| x3(1) | x2(0) | x1(0) | y(1) |            0.9900 |\n",
      "+-------+-------+-------+------+-------------------+\n",
      "| x3(1) | x2(0) | x1(1) | y(0) |            0.0010 |\n",
      "+-------+-------+-------+------+-------------------+\n",
      "| x3(1) | x2(0) | x1(1) | y(1) |            0.9990 |\n",
      "+-------+-------+-------+------+-------------------+\n",
      "| x3(1) | x2(1) | x1(0) | y(0) |            0.0050 |\n",
      "+-------+-------+-------+------+-------------------+\n",
      "| x3(1) | x2(1) | x1(0) | y(1) |            0.9950 |\n",
      "+-------+-------+-------+------+-------------------+\n",
      "| x3(1) | x2(1) | x1(1) | y(0) |            0.0005 |\n",
      "+-------+-------+-------+------+-------------------+\n",
      "| x3(1) | x2(1) | x1(1) | y(1) |            0.9995 |\n",
      "+-------+-------+-------+------+-------------------+\n"
     ]
    }
   ],
   "source": [
    "# SOLUTION\n",
    "\n",
    "p_eff = dict()\n",
    "\n",
    "def deterministicOR(y, x1, x2):\n",
    "    return DiscreteFactor(variables=[y, x1, x2],\n",
    "                          cardinality=[2, 2, 2],\n",
    "                          values=[1, 0, 0, 0, 0, 1, 1, 1])\n",
    "\n",
    "# Construct p(z_k|x_k), same as before\n",
    "p_eff[\"z0|L\"] = noisy_factor(\"z0\", \"L\", l[0])\n",
    "p_eff[\"z1|x1\"] = noisy_factor(\"z1\", \"x1\", l[1])\n",
    "p_eff[\"z2|x2\"] = noisy_factor(\"z2\", \"x2\", l[2])\n",
    "p_eff[\"z3|x3\"] = noisy_factor(\"z3\", \"x3\", l[3])\n",
    "\n",
    "# Define intermediate factors\n",
    "p_eff[\"o1|z1,z2\"] = deterministicOR(\"o1\", \"z1\", \"z2\")\n",
    "p_eff[\"o2|o1,z3\"] = deterministicOR(\"o2\", \"o1\", \"z3\")\n",
    "p_eff[\"y|o2,z0\"] = deterministicOR(\"y\", \"o2\", \"z0\")\n",
    "\n",
    "# Same priors as before\n",
    "p_eff[\"x1\"] = p[\"x1\"]\n",
    "p_eff[\"x2\"] = p[\"x2\"]\n",
    "p_eff[\"x3\"] = p[\"x3\"]\n",
    "p_eff[\"L\"] = p[\"L\"]\n",
    "\n",
    "p_eff[\"y,x1,x2,x3,o1,o2,L,z0,z1,z2,z3\"] = p_eff[\"y|o2,z0\"]*p_eff[\"z0|L\"]*p_eff[\"o2|o1,z3\"]*p_eff[\"o1|z1,z2\"]*p_eff[\"z1|x1\"]*p_eff[\"z2|x2\"]*p_eff[\"z3|x3\"]*p_eff[\"x1\"]*p_eff[\"x2\"]*p_eff[\"x3\"]*p_eff[\"L\"]\n",
    "print(\"Sum of joint prob:\", np.sum(p_eff[\"y,x1,x2,x3,o1,o2,L,z0,z1,z2,z3\"].values))\n",
    "\n",
    "p_eff[\"y,x1,x2,x3\"] =p_eff[\"y,x1,x2,x3,o1,o2,L,z0,z1,z2,z3\"].marginalize([\"o1\", \"o2\", \"L\",\"z0\", \"z1\", \"z2\", \"z3\"], inplace=False)\n",
    "p_eff[\"y|x1,x2,x3\"] = p_eff[\"y,x1,x2,x3\"] / p_eff[\"y,x1,x2,x3\"].marginalize([\"y\"], inplace=False)\n",
    "print(p_eff[\"y|x1,x2,x3\"])"
   ]
  },
  {
   "cell_type": "markdown",
   "metadata": {
    "id": "M8mAaIyL0qo-"
   },
   "source": [
    "2. Construct a noisy-OR model with $K=6$ and $\\boldsymbol{\\lambda} = (10^{-4}, 0.99, 0.9, 0.8, 0.7, 0.6, 0.5)$. Again, assume uniform priors for $x_k$ and $P(L=1)=1$.\n",
    "    - For $\\mathbf{x}=(0,0,0,0,0,1)$, what is the probability $p(y|\\mathbf{x})$?\n",
    "    - Let $\\mathbf{x}=(1,0,0,0,0,1)$ What is the probability $p(y|\\mathbf{x})$?"
   ]
  },
  {
   "cell_type": "code",
   "execution_count": 9,
   "metadata": {
    "colab": {
     "base_uri": "https://localhost:8080/"
    },
    "id": "1S-SM5Do0qo-",
    "outputId": "faf8cda0-7b28-4ace-a2d1-aa55a3c8544a"
   },
   "outputs": [
    {
     "name": "stdout",
     "output_type": "stream",
     "text": [
      "Sum of joint prob: 1.0\n"
     ]
    }
   ],
   "source": [
    "p_K6 = dict()\n",
    "l_K6 = [10**(-4), 0.99, 0.9, 0.8, 0.7, 0.6, 0.5]\n",
    "\n",
    "# Construct p(z_k|x_k)\n",
    "p_K6[\"z0|L\"] = noisy_factor(\"z0\", \"L\", l_K6[0])\n",
    "p_K6[\"z1|x1\"] = noisy_factor(\"z1\", \"x1\", l_K6[1])\n",
    "p_K6[\"z2|x2\"] = noisy_factor(\"z2\", \"x2\", l_K6[2])\n",
    "p_K6[\"z3|x3\"] = noisy_factor(\"z3\", \"x3\", l_K6[3])\n",
    "p_K6[\"z4|x4\"] = noisy_factor(\"z4\", \"x4\", l_K6[4])\n",
    "p_K6[\"z5|x5\"] = noisy_factor(\"z5\", \"x5\", l_K6[5])\n",
    "p_K6[\"z6|x6\"] = noisy_factor(\"z6\", \"x6\", l_K6[6])\n",
    "\n",
    "# Define intermediate factors\n",
    "p_K6[\"o1|z1,z2\"] = deterministicOR(\"o1\", \"z1\", \"z2\")\n",
    "p_K6[\"o2|o1,z3\"] = deterministicOR(\"o2\", \"o1\", \"z3\")\n",
    "p_K6[\"o3|o2,z4\"] = deterministicOR(\"o3\", \"o2\", \"z4\")\n",
    "p_K6[\"o4|o3,z5\"] = deterministicOR(\"o4\", \"o3\", \"z5\")\n",
    "p_K6[\"o5|o4,z6\"] = deterministicOR(\"o5\", \"o4\", \"z6\")\n",
    "p_K6[\"y|o5,z0\"] = deterministicOR(\"y\", \"o5\", \"z0\")\n",
    "\n",
    "# Same priors as before\n",
    "p_K6[\"L\"] = prior(\"L\", 0)\n",
    "p_K6[\"x1\"] = prior(\"x1\", 0.5)\n",
    "p_K6[\"x2\"] = prior(\"x2\", 0.5)\n",
    "p_K6[\"x3\"] = prior(\"x3\", 0.5)\n",
    "p_K6[\"x4\"] = prior(\"x4\", 0.5)\n",
    "p_K6[\"x5\"] = prior(\"x5\", 0.5)\n",
    "p_K6[\"x6\"] = prior(\"x6\", 0.5)\n",
    "\n",
    "p_K6[\"joint\"] = p_K6[\"y|o5,z0\"]*p_K6[\"o5|o4,z6\"]*p_K6[\"o4|o3,z5\"]*p_K6[\"o3|o2,z4\"]*p_K6[\"o2|o1,z3\"]*p_K6[\"o1|z1,z2\"]\\\n",
    "                *p_K6[\"z0|L\"]*p_K6[\"z1|x1\"]*p_K6[\"z2|x2\"]*p_K6[\"z3|x3\"]*p_K6[\"z4|x4\"]*p_K6[\"z5|x5\"]*p_K6[\"z6|x6\"]\\\n",
    "                *p_K6[\"L\"]*p_K6[\"x1\"]*p_K6[\"x2\"]*p_K6[\"x3\"]*p_K6[\"x4\"]*p_K6[\"x5\"]*p_K6[\"x6\"]\n",
    "print(\"Sum of joint prob:\", np.sum(p_K6[\"joint\"].values))\n",
    "\n",
    "p_K6[\"y,x1,x2,x3,x4,x5,x6\"] =p_K6[\"joint\"].marginalize([\"o1\",\"o2\",\"o3\",\"o4\",\"o5\",\"L\",\"z0\",\"z1\",\"z2\",\"z3\",\"z4\",\"z5\",\"z6\"], inplace=False)\n",
    "p_K6[\"y|x1,x2,x3,x4,x5,x6\"] = p_K6[\"y,x1,x2,x3,x4,x5,x6\"] / p_K6[\"y,x1,x2,x3,x4,x5,x6\"].marginalize([\"y\"], inplace=False)\n",
    "#print(\"P(y|x1,x2,x3,x4,x5,x6):\")\n",
    "#print(p_K6[\"y|x1,x2,x3,x4,x5,x6\"])"
   ]
  },
  {
   "cell_type": "code",
   "execution_count": 10,
   "metadata": {
    "colab": {
     "base_uri": "https://localhost:8080/"
    },
    "id": "IsI_0E5r0qo_",
    "outputId": "9077ebd8-d8db-4acf-801a-3812a3e17916"
   },
   "outputs": [
    {
     "name": "stdout",
     "output_type": "stream",
     "text": [
      "P(y|x1=0,x2=0,x3=0,x4=0,x5=0,x6=1):\n",
      "+------+----------+\n",
      "| y    |   phi(y) |\n",
      "+======+==========+\n",
      "| y(0) |   0.5000 |\n",
      "+------+----------+\n",
      "| y(1) |   0.5000 |\n",
      "+------+----------+\n",
      "P(y|x1=1,x2=0,x3=0,x4=0,x5=0,x6=1):\n",
      "+------+----------+\n",
      "| y    |   phi(y) |\n",
      "+======+==========+\n",
      "| y(0) |   0.0050 |\n",
      "+------+----------+\n",
      "| y(1) |   0.9950 |\n",
      "+------+----------+\n"
     ]
    }
   ],
   "source": [
    "print(\"P(y|x1=0,x2=0,x3=0,x4=0,x5=0,x6=1):\")\n",
    "print(p_K6[\"y|x1,x2,x3,x4,x5,x6\"].reduce([(\"x1\", 0), (\"x2\", 0), (\"x3\", 0), (\"x4\", 0), (\"x5\", 0), (\"x6\", 1)], inplace=False))\n",
    "print(\"P(y|x1=1,x2=0,x3=0,x4=0,x5=0,x6=1):\")\n",
    "print(p_K6[\"y|x1,x2,x3,x4,x5,x6\"].reduce([(\"x1\", 1), (\"x2\", 0), (\"x3\", 0), (\"x4\", 0), (\"x5\", 0), (\"x6\", 1)], inplace=False))"
   ]
  },
  {
   "cell_type": "markdown",
   "metadata": {
    "id": "wLw2lUjF0qo_"
   },
   "source": [
    "## References\n",
    "\n",
    "\\[1\\]  J. Pearl. Probabilistic reasoning in intelligent systems: networks of plausible inference. Elsevier, 2014."
   ]
  }
 ],
 "metadata": {
  "colab": {
   "provenance": []
  },
  "kernelspec": {
   "display_name": "Python 3 (ipykernel)",
   "language": "python",
   "name": "python3"
  },
  "language_info": {
   "codemirror_mode": {
    "name": "ipython",
    "version": 3
   },
   "file_extension": ".py",
   "mimetype": "text/x-python",
   "name": "python",
   "nbconvert_exporter": "python",
   "pygments_lexer": "ipython3",
   "version": "3.9.12"
  }
 },
 "nbformat": 4,
 "nbformat_minor": 4
}
