{
 "cells": [
  {
   "cell_type": "code",
   "execution_count": 1,
   "metadata": {
    "id": "mgY-sBKK1rzv"
   },
   "outputs": [],
   "source": [
    "!pip install -q pgmpy"
   ]
  },
  {
   "cell_type": "markdown",
   "metadata": {
    "id": "EEb1pZct1it1"
   },
   "source": [
    "# Belief Propagation\n",
    "\n",
    "In this lab session you will implement the belief propagation (BP) algorithm on a factor graph using the [pgmpy library](http://www.pgmpy.org). By the end of this session you will be able to\n",
    "- Create a factor graph respresenting a hidden Markov model\n",
    "- Answer inference queries using the built in methods of pgmpy\n",
    "- Experiment with the fundamental concepts behind probabilistic inference and message passing"
   ]
  },
  {
   "cell_type": "markdown",
   "metadata": {
    "id": "2c3mzD8C1it2"
   },
   "source": [
    "## The Model\n",
    "\n",
    "We will consider our previous Markov chain model of wheather change over time. For simpliciy, we will assume that the weather is stationary over the seven days of a week, and that it can take three different values: `sunny`, `cloudy` and `rainy`. The probability of rain or clouds after a rainy day is $0.25$ and $0.5$, respectively. A sunny day is also followed by a sunny day or a cloudy day with probabilities $0.7$ and $0.25$, respectively. Finally, if a day is cloudy, the next day will also be cloudy with probability $0.35$ or it will rain with probability $0.4$.\n",
    "\n",
    "Let's assume that by some unfortunate reason we are not able to see the weather directly, but we can observe if someone makes use of an umbrella. This will be our observed random variable, which directly depends on the actual weather. The probability of carrying an umbrella is $0.95$ for a rainy day, $0.6$ for a cloudy day, and $0.2$ for a sunny day.  \n",
    "\n",
    "Finally, we know that the first day of the week is sunny, cloudy, or rainy with probabilities $0.3$, $0.4$ and $0.3$, respectively."
   ]
  },
  {
   "cell_type": "markdown",
   "metadata": {},
   "source": [
    "<img src=\"https://raw.githubusercontent.com/guillermoim/resources/main/makov_weather.png\" width=750 height=200>"
   ]
  },
  {
   "cell_type": "markdown",
   "metadata": {},
   "source": [
    "<style type=\"text/css\">@media screen and (max-width: 767px) {.tg {width: auto !important;}.tg col {width: auto !important;}.tg-wrap {overflow-x: auto;-webkit-overflow-scrolling: touch;}}</style><div class=\"tg-wrap\"><table style=\"border-collapse:collapse;border-spacing:0\" class=\"tg\"><thead><tr><th style=\"border-color:black;border-style:solid;border-width:1px;font-family:Arial, sans-serif;font-size:14px;font-weight:normal;overflow:hidden;padding:10px 5px;text-align:left;vertical-align:top;word-break:normal\" colspan=\"2\" rowspan=\"2\"></th><th style=\"border-color:black;border-style:solid;border-width:1px;font-family:Arial, sans-serif;font-size:14px;font-weight:normal;overflow:hidden;padding:10px 5px;text-align:center;vertical-align:top;word-break:normal\" colspan=\"3\">Today's weather</th></tr><tr><th style=\"border-color:inherit;border-style:solid;border-width:1px;font-family:Arial, sans-serif;font-size:14px;font-weight:normal;overflow:hidden;padding:10px 5px;text-align:left;vertical-align:top;word-break:normal\">sunny</th><th style=\"border-color:inherit;border-style:solid;border-width:1px;font-family:Arial, sans-serif;font-size:14px;font-weight:normal;overflow:hidden;padding:10px 5px;text-align:left;vertical-align:top;word-break:normal\">cloudy</th><th style=\"border-color:inherit;border-style:solid;border-width:1px;font-family:Arial, sans-serif;font-size:14px;font-weight:normal;overflow:hidden;padding:10px 5px;text-align:left;vertical-align:top;word-break:normal\">rainy</th></tr></thead><tbody><tr><td style=\"border-color:black;border-style:solid;border-width:1px;font-family:Arial, sans-serif;font-size:14px;font-weight:normal;overflow:hidden;padding:10px 5px;text-align:center;vertical-align:middle;word-break:normal\" rowspan=\"3\">Yesterday's weather</td><td style=\"border-color:inherit;border-style:solid;border-width:1px;font-family:Arial, sans-serif;font-size:14px;overflow:hidden;padding:10px 5px;text-align:left;vertical-align:top;word-break:normal\">sunny</td><td style=\"border-color:inherit;border-style:solid;border-width:1px;font-family:Arial, sans-serif;font-size:14px;font-style:italic;overflow:hidden;padding:10px 5px;text-align:center;vertical-align:top;word-break:normal\">.7</td><td style=\"border-color:inherit;border-style:solid;border-width:1px;font-family:Arial, sans-serif;font-size:14px;font-style:italic;overflow:hidden;padding:10px 5px;text-align:center;vertical-align:top;word-break:normal\">.25</td><td style=\"border-color:inherit;border-style:solid;border-width:1px;font-family:Arial, sans-serif;font-size:14px;font-style:italic;overflow:hidden;padding:10px 5px;text-align:center;vertical-align:top;word-break:normal\">.05</td></tr><tr><td style=\"border-color:inherit;border-style:solid;border-width:1px;font-family:Arial, sans-serif;font-size:14px;overflow:hidden;padding:10px 5px;text-align:left;vertical-align:top;word-break:normal\">cloudy</td><td style=\"border-color:inherit;border-style:solid;border-width:1px;font-family:Arial, sans-serif;font-size:14px;font-style:italic;overflow:hidden;padding:10px 5px;text-align:center;vertical-align:top;word-break:normal\">.25</td><td style=\"border-color:inherit;border-style:solid;border-width:1px;font-family:Arial, sans-serif;font-size:14px;font-style:italic;overflow:hidden;padding:10px 5px;text-align:center;vertical-align:top;word-break:normal\">.35</td><td style=\"border-color:inherit;border-style:solid;border-width:1px;font-family:Arial, sans-serif;font-size:14px;font-style:italic;overflow:hidden;padding:10px 5px;text-align:center;vertical-align:top;word-break:normal\">.4</td></tr><tr><td style=\"border-color:inherit;border-style:solid;border-width:1px;font-family:Arial, sans-serif;font-size:14px;overflow:hidden;padding:10px 5px;text-align:left;vertical-align:top;word-break:normal\">rainy</td><td style=\"border-color:inherit;border-style:solid;border-width:1px;font-family:Arial, sans-serif;font-size:14px;font-style:italic;overflow:hidden;padding:10px 5px;text-align:center;vertical-align:top;word-break:normal\">.25</td><td style=\"border-color:inherit;border-style:solid;border-width:1px;font-family:Arial, sans-serif;font-size:14px;font-style:italic;overflow:hidden;padding:10px 5px;text-align:center;vertical-align:top;word-break:normal\">.5</td><td style=\"border-color:inherit;border-style:solid;border-width:1px;font-family:Arial, sans-serif;font-size:14px;font-style:italic;overflow:hidden;padding:10px 5px;text-align:center;vertical-align:top;word-break:normal\">.25</td></tr></tbody></table></div>"
   ]
  },
  {
   "cell_type": "markdown",
   "metadata": {},
   "source": [
    "\n",
    "<style type=\"text/css\">@media screen and (max-width: 767px) {.tg {width: auto !important;}.tg col {width: auto !important;}.tg-wrap {overflow-x: auto;-webkit-overflow-scrolling: touch;}}</style><div class=\"tg-wrap\"><table style=\"border-collapse:collapse;border-spacing:0\" class=\"tg\"><thead><tr><th style=\"border-color:black;border-style:solid;border-width:1px;font-family:Arial, sans-serif;font-size:14px;font-weight:normal;overflow:hidden;padding:10px 5px;text-align:left;vertical-align:top;word-break:normal\" colspan=\"2\" rowspan=\"2\"></th><th style=\"border-color:black;border-style:solid;border-width:1px;font-family:Arial, sans-serif;font-size:14px;font-weight:normal;overflow:hidden;padding:10px 5px;text-align:center;vertical-align:top;word-break:normal\" colspan=\"2\">Umbrella</th></tr><tr><th style=\"border-color:inherit;border-style:solid;border-width:1px;font-family:Arial, sans-serif;font-size:14px;font-weight:normal;overflow:hidden;padding:10px 5px;text-align:left;vertical-align:top;word-break:normal\">true</th><th style=\"border-color:inherit;border-style:solid;border-width:1px;font-family:Arial, sans-serif;font-size:14px;font-weight:normal;overflow:hidden;padding:10px 5px;text-align:left;vertical-align:top;word-break:normal\">false</th></tr></thead><tbody><tr><td style=\"border-color:black;border-style:solid;border-width:1px;font-family:Arial, sans-serif;font-size:14px;font-weight:normal;overflow:hidden;padding:10px 5px;text-align:center;vertical-align:middle;word-break:normal\" rowspan=\"3\">Weather</td><td style=\"border-color:inherit;border-style:solid;border-width:1px;font-family:Arial, sans-serif;font-size:14px;overflow:hidden;padding:10px 5px;text-align:left;vertical-align:top;word-break:normal\">sunny</td><td style=\"border-color:inherit;border-style:solid;border-width:1px;font-family:Arial, sans-serif;font-size:14px;font-style:italic;overflow:hidden;padding:10px 5px;text-align:center;vertical-align:top;word-break:normal\">.2</td><td style=\"border-color:inherit;border-style:solid;border-width:1px;font-family:Arial, sans-serif;font-size:14px;font-style:italic;overflow:hidden;padding:10px 5px;text-align:center;vertical-align:top;word-break:normal\">.8</td></tr><tr><td style=\"border-color:inherit;border-style:solid;border-width:1px;font-family:Arial, sans-serif;font-size:14px;overflow:hidden;padding:10px 5px;text-align:left;vertical-align:top;word-break:normal\">cloudy</td><td style=\"border-color:inherit;border-style:solid;border-width:1px;font-family:Arial, sans-serif;font-size:14px;font-style:italic;overflow:hidden;padding:10px 5px;text-align:center;vertical-align:top;word-break:normal\">.6</td><td style=\"border-color:inherit;border-style:solid;border-width:1px;font-family:Arial, sans-serif;font-size:14px;font-style:italic;overflow:hidden;padding:10px 5px;text-align:center;vertical-align:top;word-break:normal\">.4</td></tr><tr><td style=\"border-color:inherit;border-style:solid;border-width:1px;font-family:Arial, sans-serif;font-size:14px;overflow:hidden;padding:10px 5px;text-align:left;vertical-align:top;word-break:normal\">rainy</td><td style=\"border-color:inherit;border-style:solid;border-width:1px;font-family:Arial, sans-serif;font-size:14px;font-style:italic;overflow:hidden;padding:10px 5px;text-align:center;vertical-align:top;word-break:normal\">.95</td><td style=\"border-color:inherit;border-style:solid;border-width:1px;font-family:Arial, sans-serif;font-size:14px;font-style:italic;overflow:hidden;padding:10px 5px;text-align:center;vertical-align:top;word-break:normal\">.05</td></tr></tbody></table></div>\n"
   ]
  },
  {
   "cell_type": "markdown",
   "metadata": {
    "id": "uvOn3Hly1it3"
   },
   "source": [
    "## Creating the Factor graph\n",
    "\n",
    "The model is composed of $14$ random variables, $7$ corresponding to the hidden weather state, and $7$ corresponding to the binary observed variable. Let's create the factors and variables enconding the transition and observational model."
   ]
  },
  {
   "cell_type": "code",
   "execution_count": 2,
   "metadata": {
    "colab": {
     "base_uri": "https://localhost:8080/"
    },
    "id": "ZQmMVfrB1it3",
    "outputId": "9eedb89d-bbf1-4f97-9e78-08f0a4009ef2"
   },
   "outputs": [
    {
     "name": "stderr",
     "output_type": "stream",
     "text": [
      "INFO:numexpr.utils:NumExpr defaulting to 8 threads.\n"
     ]
    },
    {
     "name": "stdout",
     "output_type": "stream",
     "text": [
      "+------------+------------+--------------+\n",
      "| w1         | w2         |   phi(w1,w2) |\n",
      "+============+============+==============+\n",
      "| w1(sunny)  | w2(sunny)  |       0.7000 |\n",
      "+------------+------------+--------------+\n",
      "| w1(sunny)  | w2(cloudy) |       0.2500 |\n",
      "+------------+------------+--------------+\n",
      "| w1(sunny)  | w2(rainy)  |       0.0500 |\n",
      "+------------+------------+--------------+\n",
      "| w1(cloudy) | w2(sunny)  |       0.2500 |\n",
      "+------------+------------+--------------+\n",
      "| w1(cloudy) | w2(cloudy) |       0.3500 |\n",
      "+------------+------------+--------------+\n",
      "| w1(cloudy) | w2(rainy)  |       0.4000 |\n",
      "+------------+------------+--------------+\n",
      "| w1(rainy)  | w2(sunny)  |       0.2500 |\n",
      "+------------+------------+--------------+\n",
      "| w1(rainy)  | w2(cloudy) |       0.5000 |\n",
      "+------------+------------+--------------+\n",
      "| w1(rainy)  | w2(rainy)  |       0.2500 |\n",
      "+------------+------------+--------------+\n",
      "+------------+-----------+--------------+\n",
      "| w1         | u1        |   phi(w1,u1) |\n",
      "+============+===========+==============+\n",
      "| w1(sunny)  | u1(True)  |       0.2000 |\n",
      "+------------+-----------+--------------+\n",
      "| w1(sunny)  | u1(False) |       0.8000 |\n",
      "+------------+-----------+--------------+\n",
      "| w1(cloudy) | u1(True)  |       0.6000 |\n",
      "+------------+-----------+--------------+\n",
      "| w1(cloudy) | u1(False) |       0.4000 |\n",
      "+------------+-----------+--------------+\n",
      "| w1(rainy)  | u1(True)  |       0.9500 |\n",
      "+------------+-----------+--------------+\n",
      "| w1(rainy)  | u1(False) |       0.0500 |\n",
      "+------------+-----------+--------------+\n"
     ]
    }
   ],
   "source": [
    "from pgmpy.factors.discrete import DiscreteFactor\n",
    "\n",
    "weather = [\"w1\", \"w2\", \"w3\", \"w4\", \"w5\", \"w6\", \"w7\"]\n",
    "umbrella = [\"u1\", \"u2\", \"u3\", \"u4\", \"u5\", \"u6\", \"u7\"]\n",
    "variables = weather + umbrella\n",
    "state_names = dict([(k, [\"sunny\", \"cloudy\", \"rainy\"]) for k in weather] +\n",
    "                   [(k, [True, False]) for k in umbrella])\n",
    "\n",
    "def day_transition(d1, d2): # P(d2|d1)\n",
    "     return DiscreteFactor(variables=[d1, d2],\n",
    "                           cardinality=[3, 3],\n",
    "                           values=[0.7, 0.25, 0.05,\n",
    "                                   0.25, 0.35, 0.4,\n",
    "                                   0.25, 0.5, 0.25],\n",
    "                           state_names=state_names)\n",
    "\n",
    "def take_umbrella_transition(d, u): # P(u|d)\n",
    "    return DiscreteFactor(variables=[d, u],\n",
    "                          cardinality=[3, 2],\n",
    "                          values=[0.2, 0.8,\n",
    "                                  0.6, 0.4,\n",
    "                                  0.95, 0.05],\n",
    "                          state_names=state_names)\n",
    "\n",
    "p = dict()\n",
    "p[\"w1\"] = DiscreteFactor(variables=[\"w1\"],\n",
    "                         cardinality=[3],\n",
    "                         values=[0.3, 0.4, 0.3],\n",
    "                         state_names=state_names)\n",
    "\n",
    "p[\"w2|w1\"] = day_transition(\"w1\", \"w2\")\n",
    "p[\"w3|w2\"] = day_transition(\"w2\", \"w3\")\n",
    "p[\"w4|w3\"] = day_transition(\"w3\", \"w4\")\n",
    "p[\"w5|w4\"] = day_transition(\"w4\", \"w5\")\n",
    "p[\"w6|w5\"] = day_transition(\"w5\", \"w6\")\n",
    "p[\"w7|w6\"] = day_transition(\"w6\", \"w7\")\n",
    "\n",
    "p[\"u1|w1\"] = take_umbrella_transition(\"w1\", \"u1\")\n",
    "p[\"u2|w2\"] = take_umbrella_transition(\"w2\", \"u2\")\n",
    "p[\"u3|w3\"] = take_umbrella_transition(\"w3\", \"u3\")\n",
    "p[\"u4|w4\"] = take_umbrella_transition(\"w4\", \"u4\")\n",
    "p[\"u5|w5\"] = take_umbrella_transition(\"w5\", \"u5\")\n",
    "p[\"u6|w6\"] = take_umbrella_transition(\"w6\", \"u6\")\n",
    "p[\"u7|w7\"] = take_umbrella_transition(\"w7\", \"u7\")\n",
    "\n",
    "print(p[\"w2|w1\"])\n",
    "print(p[\"u1|w1\"])"
   ]
  },
  {
   "cell_type": "code",
   "execution_count": 3,
   "metadata": {
    "colab": {
     "base_uri": "https://localhost:8080/"
    },
    "id": "cUFjiRlOka-O",
    "outputId": "014804b1-897c-4ec1-dab5-13bec8dd5555"
   },
   "outputs": [
    {
     "name": "stdout",
     "output_type": "stream",
     "text": [
      "+------------+------------+--------------+\n",
      "| w6         | w7         |   phi(w6,w7) |\n",
      "+============+============+==============+\n",
      "| w6(sunny)  | w7(sunny)  |       0.7000 |\n",
      "+------------+------------+--------------+\n",
      "| w6(sunny)  | w7(cloudy) |       0.2500 |\n",
      "+------------+------------+--------------+\n",
      "| w6(sunny)  | w7(rainy)  |       0.0500 |\n",
      "+------------+------------+--------------+\n",
      "| w6(cloudy) | w7(sunny)  |       0.2500 |\n",
      "+------------+------------+--------------+\n",
      "| w6(cloudy) | w7(cloudy) |       0.3500 |\n",
      "+------------+------------+--------------+\n",
      "| w6(cloudy) | w7(rainy)  |       0.4000 |\n",
      "+------------+------------+--------------+\n",
      "| w6(rainy)  | w7(sunny)  |       0.2500 |\n",
      "+------------+------------+--------------+\n",
      "| w6(rainy)  | w7(cloudy) |       0.5000 |\n",
      "+------------+------------+--------------+\n",
      "| w6(rainy)  | w7(rainy)  |       0.2500 |\n",
      "+------------+------------+--------------+\n"
     ]
    }
   ],
   "source": [
    "print(p['w7|w6'])"
   ]
  },
  {
   "cell_type": "markdown",
   "metadata": {
    "id": "fUDO5jRt1iuA"
   },
   "source": [
    "Now, let's build the model using the ```FactorGraph``` class. To do so, we first need to add all variable nodes with ```add_nodes_from```. Then, we add each factor ```f``` to the graph with```add_factors(f)``` and, for each of its variables ```v``` (available in ```f.variables```), we create an edge between ```f``` and ```v```  with ```add_edge(f,v)```. Finally, we verify that the factor graph is correct with the ```check_model``` method."
   ]
  },
  {
   "cell_type": "code",
   "execution_count": 4,
   "metadata": {
    "colab": {
     "base_uri": "https://localhost:8080/"
    },
    "id": "a3a4Xu3R1iuC",
    "outputId": "aeec0531-b9db-46fe-c428-b4359d01ad71",
    "scrolled": true
   },
   "outputs": [
    {
     "name": "stdout",
     "output_type": "stream",
     "text": [
      "Model is ok:  True\n"
     ]
    }
   ],
   "source": [
    "from pgmpy.models import FactorGraph\n",
    "G = FactorGraph()\n",
    "\n",
    "assert set(variables) == set([v for f in p.values() for v in f.variables])\n",
    "\n",
    "G.add_nodes_from(variables)\n",
    "for f in p.values():\n",
    "    G.add_factors(f)\n",
    "    for v in f.variables:\n",
    "        G.add_edge(v,f)\n",
    "\n",
    "print(\"Model is ok: \", G.check_model())"
   ]
  },
  {
   "cell_type": "code",
   "execution_count": 5,
   "metadata": {
    "colab": {
     "base_uri": "https://localhost:8080/"
    },
    "id": "7-0u4kTwxbaf",
    "outputId": "adf13ce2-29f4-4acd-fb8d-792bdf43d4d6"
   },
   "outputs": [
    {
     "data": {
      "text/plain": [
       "14"
      ]
     },
     "execution_count": 5,
     "metadata": {},
     "output_type": "execute_result"
    }
   ],
   "source": [
    "len(G.factors)"
   ]
  },
  {
   "cell_type": "code",
   "execution_count": 6,
   "metadata": {
    "colab": {
     "base_uri": "https://localhost:8080/"
    },
    "id": "U1fvx3by97QG",
    "outputId": "2d50f8f1-dd71-4098-8924-5b50e2b136c3"
   },
   "outputs": [
    {
     "name": "stdout",
     "output_type": "stream",
     "text": [
      "28\n"
     ]
    }
   ],
   "source": [
    "def edges_of(graph, start, papa_node = None):\n",
    "  neighbors = graph.neighbors(start)\n",
    "  for neighbor in neighbors:\n",
    "    if neighbor is not papa_node:\n",
    "      print(f'\\33[91m{start!r}\\33[0m is neighbor of \\33[94m{neighbor!r}\\33[0m')\n",
    "      edges_of(graph, neighbor, papa_node=start)\n",
    "\n",
    "print(len(G.nodes))\n"
   ]
  },
  {
   "cell_type": "markdown",
   "metadata": {
    "id": "Tt8_n-OR1iuD"
   },
   "source": [
    "## Running Inference Queries\n",
    "\n",
    "We will use now some methods implemented in `pgmpy` that perform exact inference.\n",
    "Consider the following queries:\n",
    "\n",
    "1. We observe that on Thursday and Friday the umbrella is being used. What is the weather prediction for Saturday?\n",
    "2. What is the weather prediction for Sunday, with the same observations?\n",
    "3. What is the weather prediction for Sunday if, instead, we observe that the umbrella is NOT being used on Thursday and Friday?\n",
    "4. What is the most likely weather sequence for Monday and Tuesday, if we observed that the umbrella has been used both days?\n",
    "\n",
    "\n",
    "Answer the three previous queries using the `query` method of the `BeliefPropagation` class:\n",
    "```python\n",
    "    def query(self, variables, evidence=None, joint=True, show_progress=True):\n",
    "        \"\"\"\n",
    "        Query method using belief propagation.\n",
    "\n",
    "        Parameters\n",
    "        ----------\n",
    "        variables: list\n",
    "            list of variables for which you want to compute the probability\n",
    "\n",
    "        evidence: dict\n",
    "            a dict key, value pair as {var: state_of_var_observed}\n",
    "            None if no evidence\n",
    "\n",
    "        joint: boolean\n",
    "            If True, returns a Joint Distribution over `variables`.\n",
    "            If False, returns a dict of distributions over each of the `variables`\n",
    "```\n",
    "\n",
    "**You will need to normalize the output.** The result of the query itself has a ```.normalize()``` method."
   ]
  },
  {
   "cell_type": "code",
   "execution_count": 7,
   "metadata": {
    "colab": {
     "base_uri": "https://localhost:8080/"
    },
    "id": "1Wn1QXrQ8h1d",
    "outputId": "bdbc413b-7830-4958-d76d-93b2ba7b031a"
   },
   "outputs": [
    {
     "name": "stdout",
     "output_type": "stream",
     "text": [
      "+------------+-----------+\n",
      "| w1         |   phi(w1) |\n",
      "+============+===========+\n",
      "| w1(sunny)  |    0.3000 |\n",
      "+------------+-----------+\n",
      "| w1(cloudy) |    0.4000 |\n",
      "+------------+-----------+\n",
      "| w1(rainy)  |    0.3000 |\n",
      "+------------+-----------+\n"
     ]
    }
   ],
   "source": [
    "print(p[\"w1\"])"
   ]
  },
  {
   "cell_type": "code",
   "execution_count": 8,
   "metadata": {
    "colab": {
     "base_uri": "https://localhost:8080/"
    },
    "id": "ljTg628n1iuD",
    "outputId": "555cc712-6ba8-476e-c51c-3e68a5e9f620"
   },
   "outputs": [
    {
     "name": "stdout",
     "output_type": "stream",
     "text": [
      "before normalize +------------+-----------+\n",
      "| w6         |   phi(w6) |\n",
      "+============+===========+\n",
      "| w6(sunny)  |    0.3025 |\n",
      "+------------+-----------+\n",
      "| w6(cloudy) |    0.4080 |\n",
      "+------------+-----------+\n",
      "| w6(rainy)  |    0.2895 |\n",
      "+------------+-----------+\n",
      "Prob SAT given THU and FRI umbrella\n",
      "+------------+-----------+\n",
      "| w6         |   phi(w6) |\n",
      "+============+===========+\n",
      "| w6(sunny)  |    0.3025 |\n",
      "+------------+-----------+\n",
      "| w6(cloudy) |    0.4080 |\n",
      "+------------+-----------+\n",
      "| w6(rainy)  |    0.2895 |\n",
      "+------------+-----------+\n",
      "Prob SUN given THU and FRI umbrella\n",
      "+------------+-----------+\n",
      "| w7         |   phi(w7) |\n",
      "+============+===========+\n",
      "| w7(sunny)  |    0.3861 |\n",
      "+------------+-----------+\n",
      "| w7(cloudy) |    0.3632 |\n",
      "+------------+-----------+\n",
      "| w7(rainy)  |    0.2507 |\n",
      "+------------+-----------+\n",
      "Prob SUN given THU and FRI NOT umbrella\n",
      "+------------+-----------+\n",
      "| w7         |   phi(w7) |\n",
      "+============+===========+\n",
      "| w7(sunny)  |    0.5225 |\n",
      "+------------+-----------+\n",
      "| w7(cloudy) |    0.3077 |\n",
      "+------------+-----------+\n",
      "| w7(rainy)  |    0.1698 |\n",
      "+------------+-----------+\n",
      "Prob MON, TUE given umbrella\n",
      "+------------+------------+--------------+\n",
      "| w1         | w2         |   phi(w1,w2) |\n",
      "+============+============+==============+\n",
      "| w1(sunny)  | w2(sunny)  |       0.0246 |\n",
      "+------------+------------+--------------+\n",
      "| w1(sunny)  | w2(cloudy) |       0.0264 |\n",
      "+------------+------------+--------------+\n",
      "| w1(sunny)  | w2(rainy)  |       0.0084 |\n",
      "+------------+------------+--------------+\n",
      "| w1(cloudy) | w2(sunny)  |       0.0352 |\n",
      "+------------+------------+--------------+\n",
      "| w1(cloudy) | w2(cloudy) |       0.1477 |\n",
      "+------------+------------+--------------+\n",
      "| w1(cloudy) | w2(rainy)  |       0.2672 |\n",
      "+------------+------------+--------------+\n",
      "| w1(rainy)  | w2(sunny)  |       0.0418 |\n",
      "+------------+------------+--------------+\n",
      "| w1(rainy)  | w2(cloudy) |       0.2505 |\n",
      "+------------+------------+--------------+\n",
      "| w1(rainy)  | w2(rainy)  |       0.1983 |\n",
      "+------------+------------+--------------+\n"
     ]
    }
   ],
   "source": [
    "from pgmpy.inference import BeliefPropagation\n",
    "bp = BeliefPropagation(G)\n",
    "\n",
    "q = bp.query(variables=['w6'],\n",
    "             evidence={\"u4\":True,\"u5\":True})\n",
    "\n",
    "print('before normalize', q)\n",
    "\n",
    "q.normalize()\n",
    "print(\"Prob SAT given THU and FRI umbrella\")\n",
    "print(q)\n",
    "\n",
    "q = bp.query(variables=['w7'],\n",
    "             evidence={\"u4\":True,\"u5\":True})\n",
    "q.normalize()\n",
    "print(\"Prob SUN given THU and FRI umbrella\")\n",
    "print(q)\n",
    "\n",
    "q = bp.query(variables=['w7'],\n",
    "             evidence={\"u4\":False,\"u5\":False})\n",
    "q.normalize()\n",
    "print(\"Prob SUN given THU and FRI NOT umbrella\")\n",
    "print(q)\n",
    "\n",
    "q = bp.query(variables=['w1','w2'],\n",
    "             evidence={\"u1\":True,\"u2\":True})\n",
    "q.normalize()\n",
    "print(\"Prob MON, TUE given umbrella\")\n",
    "print(q)"
   ]
  },
  {
   "cell_type": "code",
   "execution_count": 9,
   "metadata": {},
   "outputs": [
    {
     "name": "stdout",
     "output_type": "stream",
     "text": [
      "Prob MON, TUE given umbrella\n",
      "+------------+------------+--------------+\n",
      "| w1         | w5         |   phi(w1,w5) |\n",
      "+============+============+==============+\n",
      "| w1(sunny)  | w5(sunny)  |       0.0196 |\n",
      "+------------+------------+--------------+\n",
      "| w1(sunny)  | w5(cloudy) |       0.0402 |\n",
      "+------------+------------+--------------+\n",
      "| w1(sunny)  | w5(rainy)  |       0.0383 |\n",
      "+------------+------------+--------------+\n",
      "| w1(cloudy) | w5(sunny)  |       0.0715 |\n",
      "+------------+------------+--------------+\n",
      "| w1(cloudy) | w5(cloudy) |       0.1693 |\n",
      "+------------+------------+--------------+\n",
      "| w1(cloudy) | w5(rainy)  |       0.1715 |\n",
      "+------------+------------+--------------+\n",
      "| w1(rainy)  | w5(sunny)  |       0.0849 |\n",
      "+------------+------------+--------------+\n",
      "| w1(rainy)  | w5(cloudy) |       0.2007 |\n",
      "+------------+------------+--------------+\n",
      "| w1(rainy)  | w5(rainy)  |       0.2041 |\n",
      "+------------+------------+--------------+\n"
     ]
    }
   ],
   "source": [
    "q = bp.query(variables=['w1','w5'],\n",
    "             evidence={\"u1\":True,\"u5\":True})\n",
    "q.normalize()\n",
    "print(\"Prob MON, TUE given umbrella\")\n",
    "print(q)"
   ]
  },
  {
   "cell_type": "markdown",
   "metadata": {
    "id": "jnsyyoDf1iuE"
   },
   "source": [
    "## Implementing Belief Propagation\n",
    "\n",
    "Implement your own Belief Propagation algorithm by filling in the provided code skeleton. You will need to provide the code to:\n",
    "* Add the evidence factors\n",
    "* Initialize a factor-to-variable message `f->v` and a variable-to-factor message `v->f` for each edge in the graph\n",
    "* Update messages of each type\n",
    "* Perform message passing using the collect_evidence and distribute_evidence algorithms\n",
    "* Compute the marginal using the messages\n",
    "\n",
    "See function comments for more details. Each comment line ```#IMPLEMENT``` is to be replaced with as many lines of code as you need. Method definitions should remain unchanged."
   ]
  },
  {
   "cell_type": "code",
   "execution_count": 10,
   "metadata": {
    "id": "Ennye1eX1iuE"
   },
   "outputs": [],
   "source": [
    "from functools import reduce\n",
    "import operator\n",
    "from collections import defaultdict\n",
    "from copy import deepcopy\n",
    "\n",
    "def prod(iterable):\n",
    "    \"\"\"Helper function to obtain the product of all the items in the iterable\n",
    "    given as input\"\"\"\n",
    "    return reduce(operator.mul, iterable, 1)\n",
    "\n",
    "class MyBeliefPropagation:\n",
    "    def __init__(self, factor_graph):\n",
    "        assert factor_graph.check_model()\n",
    "        self.original_graph = factor_graph\n",
    "        self.variables = factor_graph.get_variable_nodes()\n",
    "\n",
    "        self.state_names = dict()\n",
    "        for f in self.original_graph.factors:\n",
    "            self.state_names.update(f.state_names)\n",
    "\n",
    "    def factor_ones(self, v):\n",
    "        \"\"\"\n",
    "        Returns a DiscreteFactor for variable v with all ones.\n",
    "        \"\"\"\n",
    "        card = len(self.state_names[v])\n",
    "        return DiscreteFactor(variables=[v],\n",
    "                              cardinality=[card],\n",
    "                              values=[1]*card,\n",
    "                              state_names=self.state_names)\n",
    "\n",
    "    def initialize_messages(self):\n",
    "        \"\"\"\n",
    "        This function creates, for each edge factor-variable, two messages: m(f->v) and\n",
    "        m(v->f). It initiliazies each message as a DiscreteFactor with all ones. It stores all\n",
    "        the messages in a dict of dict. Keys of both dicts are either factors or variables.\n",
    "        Messages are indexed as messages[to][from]. For example, m(x->y) is in messages[y][x].\n",
    "        It's done this way because it will be useful to get all messages that go to a variable\n",
    "        or a factor.\n",
    "        \"\"\"\n",
    "        self.messages = defaultdict(dict)\n",
    "        for f in self.working_graph.get_factors():\n",
    "            for v in f.variables:\n",
    "                self.messages[v][f] = self.factor_ones(v)\n",
    "                self.messages[f][v] = self.factor_ones(v)\n",
    "\n",
    "    def factor_to_variable(self, f, v):\n",
    "        \"\"\"\n",
    "        Computes message m from factor to variable.\n",
    "        It computes it from all messages from all\n",
    "        other variables to the factor (i.e. all variables connected the factor except v).\n",
    "        Returns message m.\n",
    "        \"\"\"\n",
    "        assert v in self.variables and f in self.working_graph.factors\n",
    "        messages_to_f = list(self.messages[f].values())\n",
    "        messages_to_f.remove(self.messages[f][v]) # all except the one from variable v\n",
    "\n",
    "        m = f * prod(messages_to_f)\n",
    "        other_vars = set(m.variables) - set([v])\n",
    "        m.marginalize(other_vars)\n",
    "        return m\n",
    "\n",
    "    def variable_to_factor(self, v, f):\n",
    "        \"\"\"\n",
    "        Computes message m from variable to factor.\n",
    "        It computes it from all messages from all\n",
    "        other factors to the variable (i.e. all factors connected the variable except f).\n",
    "        Returns message m.\n",
    "        \"\"\"\n",
    "        assert v in self.variables and f in self.working_graph.factors\n",
    "        messages_to_v = list(self.messages[v].values())\n",
    "        messages_to_v.remove(self.messages[v][f]) # all except the one from factor f\n",
    "        if len(messages_to_v) == 0: # No neighbors, return 1 (or return None and do not update)\n",
    "            return self.factor_ones(v)\n",
    "        m = prod(messages_to_v)\n",
    "        return m\n",
    "\n",
    "    def get_evidence_factors(self, evidence):\n",
    "        \"\"\"\n",
    "        For each evidence variable v, create a factor with p(v=e)=1. Receives a dict of\n",
    "        evidence, where keys are variables and values are variable states. Returns a list of\n",
    "        DiscreteFactor.\n",
    "        \"\"\"\n",
    "        # For each factor that involves variable v, add another factor with p(v=value)=1.\n",
    "        # Returns a list of evidence factors.\n",
    "        evidence_factors = []\n",
    "\n",
    "        for variable, value in evidence.items():\n",
    "            i = self.state_names[variable].index(value)\n",
    "            values = [0]*len(self.state_names[variable])\n",
    "            values[i] = 1.0\n",
    "            ef = DiscreteFactor(variables=[variable],\n",
    "                                cardinality=[len(values)],\n",
    "                                values=values,\n",
    "                                state_names=self.state_names)\n",
    "            evidence_factors.append(ef)\n",
    "        return evidence_factors\n",
    "\n",
    "    def update(self, m_to, m_from):\n",
    "        \"\"\"\n",
    "        Performs an update of a message depending on whether it is variable-to-factor or\n",
    "        factor-to-variable.\n",
    "        \"\"\"\n",
    "        if m_from in self.variables:\n",
    "            assert m_to in self.working_graph.factors, f\"m_from: {m_from}\\nm_to: {m_to}\"\n",
    "            self.messages[m_to][m_from] = self.variable_to_factor(m_from, m_to)\n",
    "        else:\n",
    "            assert m_from in self.working_graph.factors and m_to in self.variables, f\"m_from: {m_from}\\nm_to: {m_to}\"\n",
    "            self.messages[m_to][m_from] = self.factor_to_variable(m_from, m_to)\n",
    "\n",
    "    def collect_evidence(self, node, parent=None):\n",
    "        \"\"\"\n",
    "        Passes messages from the leaves to the root of the tree.\n",
    "        The parent argument is used to avoid an infinite recursion.\n",
    "        \"\"\"\n",
    "        for child in self.working_graph.neighbors(node):\n",
    "            if child is not parent:\n",
    "                self.update(node, self.collect_evidence(child, parent=node))\n",
    "        return node\n",
    "\n",
    "    def distribute_evidence(self, node, parent=None):\n",
    "        \"\"\"\n",
    "        Passes messages from the root to the leaves of the tree.\n",
    "        The parent argument is used to avoid an infinite recursion.\n",
    "        \"\"\"\n",
    "        for child in self.working_graph.neighbors(node):\n",
    "            if child is not parent:\n",
    "                self.update(child, node)\n",
    "                self.distribute_evidence(child, parent=node)\n",
    "\n",
    "    def set_evidence(self, evidence):\n",
    "        \"\"\"\n",
    "        Generates a new graph with the evidence factors\n",
    "        evidence (keys: variables, values: states)\n",
    "        \"\"\"\n",
    "        evidence_factors = self.get_evidence_factors(evidence)\n",
    "        self.working_graph = self.original_graph.copy()\n",
    "        for f in evidence_factors:\n",
    "            self.working_graph.add_factors(f)\n",
    "            for v in f.variables:\n",
    "                self.working_graph.add_edge(v,f)\n",
    "        self.bp_done = False\n",
    "\n",
    "    def run_bp(self, root):\n",
    "        \"\"\"\n",
    "        After initializing the messages, this function performs Belief Propagation\n",
    "        using collect_evidence and distribute_evidence from the given root node.\n",
    "        \"\"\"\n",
    "        assert root in self.variables, \"Variable not in the model\"\n",
    "        self.initialize_messages()\n",
    "        print('Wroking graph', self.working_graph.check_model())\n",
    "        self.collect_evidence(root)\n",
    "        self.distribute_evidence(root)\n",
    "        self.bp_done = True\n",
    "\n",
    "    def get_marginal(self, variable):\n",
    "        \"\"\"\n",
    "        To be used after run_bp. Returns p(variable | evidence) unnormalized.\n",
    "        \"\"\"\n",
    "        assert self.bp_done, \"First run BP!\"\n",
    "        return prod(self.messages[variable].values())\n",
    "\n",
    "    def get_marginal_subset(self, variables):\n",
    "        assert isinstance(variables, list), \"variables should be a list\"\n",
    "        assert self.bp_done, \"First run BP!\"\n",
    "\n",
    "        # Initialize common_factors to None\n",
    "        common_factors = None\n",
    "\n",
    "        # Loop through each variable in the list\n",
    "        for var in variables:\n",
    "            # Get factors connected to the current variable\n",
    "            factors_connected_to_var = set(self.messages[var].keys())\n",
    "\n",
    "            # If common_factors is None, update it with factors_connected_to_var\n",
    "            if common_factors is None:\n",
    "                common_factors = factors_connected_to_var\n",
    "            else:\n",
    "                # Take the intersection of common_factors and factors_connected_to_var\n",
    "                common_factors = common_factors.intersection(factors_connected_to_var)\n",
    "\n",
    "        # If there is no common factor we can say that this variables are not connected\n",
    "        if common_factors is None or len(common_factors) == 0:\n",
    "                raise ValueError(\"No common factors found among the provided variables, therefore they are not connected.\")    \n",
    "        \n",
    "        fact = common_factors.pop()\n",
    "        \n",
    "        messages_to_f = list(self.messages[fact].values())\n",
    "        m = fact * prod(messages_to_f)\n",
    "        \n",
    "        other_vars = set(m.variables) - set(variables)\n",
    "        m.marginalize(other_vars)\n",
    "        \n",
    "        return m\n"
   ]
  },
  {
   "cell_type": "markdown",
   "metadata": {
    "id": "GlugHvpW1iuF"
   },
   "source": [
    "Check that your implementation produces the same results for the first three queries P(w7|u4=t,u5=t), P(w7|u4=t,u5=t), and P(w6|u4=f,u5=f) as the ones given by the `BeliefPropagation` class. Do you need to run BP each time? Justify your answer."
   ]
  },
  {
   "cell_type": "code",
   "execution_count": 11,
   "metadata": {},
   "outputs": [
    {
     "name": "stdout",
     "output_type": "stream",
     "text": [
      "Prob MON, TUE given umbrella\n",
      "+------------+------------+--------------+\n",
      "| w6         | w7         |   phi(w6,w7) |\n",
      "+============+============+==============+\n",
      "| w6(sunny)  | w7(sunny)  |       0.0455 |\n",
      "+------------+------------+--------------+\n",
      "| w6(sunny)  | w7(cloudy) |       0.0488 |\n",
      "+------------+------------+--------------+\n",
      "| w6(sunny)  | w7(rainy)  |       0.0154 |\n",
      "+------------+------------+--------------+\n",
      "| w6(cloudy) | w7(sunny)  |       0.0364 |\n",
      "+------------+------------+--------------+\n",
      "| w6(cloudy) | w7(cloudy) |       0.1529 |\n",
      "+------------+------------+--------------+\n",
      "| w6(cloudy) | w7(rainy)  |       0.2767 |\n",
      "+------------+------------+--------------+\n",
      "| w6(rainy)  | w7(sunny)  |       0.0361 |\n",
      "+------------+------------+--------------+\n",
      "| w6(rainy)  | w7(cloudy) |       0.2166 |\n",
      "+------------+------------+--------------+\n",
      "| w6(rainy)  | w7(rainy)  |       0.1715 |\n",
      "+------------+------------+--------------+\n"
     ]
    }
   ],
   "source": [
    "q = bp.query(variables=['w6','w7'],\n",
    "             evidence={'u6':True, 'u7':True})\n",
    "q.normalize()\n",
    "print(\"Prob MON, TUE given umbrella\")\n",
    "print(q)"
   ]
  },
  {
   "cell_type": "code",
   "execution_count": 12,
   "metadata": {
    "colab": {
     "base_uri": "https://localhost:8080/"
    },
    "id": "s67CQ0Kz1iuF",
    "outputId": "ecab891a-ef0f-4ea4-fdc8-e63c0f8e2b6e"
   },
   "outputs": [
    {
     "name": "stdout",
     "output_type": "stream",
     "text": [
      "Prob SAT given THU and FRI umbrella\n",
      "Wroking graph True\n",
      "+------------+------------+--------------+\n",
      "| w6         | w7         |   phi(w6,w7) |\n",
      "+============+============+==============+\n",
      "| w6(sunny)  | w7(sunny)  |       0.0455 |\n",
      "+------------+------------+--------------+\n",
      "| w6(sunny)  | w7(cloudy) |       0.0488 |\n",
      "+------------+------------+--------------+\n",
      "| w6(sunny)  | w7(rainy)  |       0.0154 |\n",
      "+------------+------------+--------------+\n",
      "| w6(cloudy) | w7(sunny)  |       0.0364 |\n",
      "+------------+------------+--------------+\n",
      "| w6(cloudy) | w7(cloudy) |       0.1529 |\n",
      "+------------+------------+--------------+\n",
      "| w6(cloudy) | w7(rainy)  |       0.2767 |\n",
      "+------------+------------+--------------+\n",
      "| w6(rainy)  | w7(sunny)  |       0.0361 |\n",
      "+------------+------------+--------------+\n",
      "| w6(rainy)  | w7(cloudy) |       0.2166 |\n",
      "+------------+------------+--------------+\n",
      "| w6(rainy)  | w7(rainy)  |       0.1715 |\n",
      "+------------+------------+--------------+\n"
     ]
    }
   ],
   "source": [
    "my_bp = MyBeliefPropagation(G)\n",
    "\n",
    "print(\"Prob SAT given THU and FRI umbrella\")\n",
    "my_bp.set_evidence({'u6':True, 'u7':True})\n",
    "my_bp.run_bp(root=\"w6\")\n",
    "\n",
    "res = my_bp.get_marginal_subset([\"w6\",\"w7\"])\n",
    "res.normalize(inplace=True)\n",
    "print(res)"
   ]
  },
  {
   "cell_type": "code",
   "execution_count": 13,
   "metadata": {},
   "outputs": [
    {
     "name": "stdout",
     "output_type": "stream",
     "text": [
      "Prob MON, TUE given umbrella\n",
      "+------------+------------+--------------+\n",
      "| w1         | w2         |   phi(w1,w2) |\n",
      "+============+============+==============+\n",
      "| w1(sunny)  | w2(sunny)  |       0.0246 |\n",
      "+------------+------------+--------------+\n",
      "| w1(sunny)  | w2(cloudy) |       0.0264 |\n",
      "+------------+------------+--------------+\n",
      "| w1(sunny)  | w2(rainy)  |       0.0084 |\n",
      "+------------+------------+--------------+\n",
      "| w1(cloudy) | w2(sunny)  |       0.0352 |\n",
      "+------------+------------+--------------+\n",
      "| w1(cloudy) | w2(cloudy) |       0.1477 |\n",
      "+------------+------------+--------------+\n",
      "| w1(cloudy) | w2(rainy)  |       0.2672 |\n",
      "+------------+------------+--------------+\n",
      "| w1(rainy)  | w2(sunny)  |       0.0418 |\n",
      "+------------+------------+--------------+\n",
      "| w1(rainy)  | w2(cloudy) |       0.2505 |\n",
      "+------------+------------+--------------+\n",
      "| w1(rainy)  | w2(rainy)  |       0.1983 |\n",
      "+------------+------------+--------------+\n"
     ]
    }
   ],
   "source": [
    "q = bp.query(variables=['w1','w2'],\n",
    "             evidence={'u1':True, 'u2':True})\n",
    "q.normalize()\n",
    "print(\"Prob MON, TUE given umbrella\")\n",
    "print(q)"
   ]
  },
  {
   "cell_type": "code",
   "execution_count": 14,
   "metadata": {},
   "outputs": [
    {
     "name": "stdout",
     "output_type": "stream",
     "text": [
      "Prob SAT given THU and FRI umbrella\n",
      "Wroking graph True\n",
      "+------------+------------+--------------+\n",
      "| w2         | w1         |   phi(w2,w1) |\n",
      "+============+============+==============+\n",
      "| w2(sunny)  | w1(sunny)  |       0.0246 |\n",
      "+------------+------------+--------------+\n",
      "| w2(sunny)  | w1(cloudy) |       0.0352 |\n",
      "+------------+------------+--------------+\n",
      "| w2(sunny)  | w1(rainy)  |       0.0418 |\n",
      "+------------+------------+--------------+\n",
      "| w2(cloudy) | w1(sunny)  |       0.0264 |\n",
      "+------------+------------+--------------+\n",
      "| w2(cloudy) | w1(cloudy) |       0.1477 |\n",
      "+------------+------------+--------------+\n",
      "| w2(cloudy) | w1(rainy)  |       0.2505 |\n",
      "+------------+------------+--------------+\n",
      "| w2(rainy)  | w1(sunny)  |       0.0084 |\n",
      "+------------+------------+--------------+\n",
      "| w2(rainy)  | w1(cloudy) |       0.2672 |\n",
      "+------------+------------+--------------+\n",
      "| w2(rainy)  | w1(rainy)  |       0.1983 |\n",
      "+------------+------------+--------------+\n"
     ]
    }
   ],
   "source": [
    "my_bp = MyBeliefPropagation(G)\n",
    "\n",
    "print(\"Prob SAT given THU and FRI umbrella\")\n",
    "my_bp.set_evidence({'u1':True, 'u2':True})\n",
    "my_bp.run_bp(root=\"w1\")\n",
    "\n",
    "res = my_bp.get_marginal_subset([\"w1\",\"w2\"])\n",
    "res.normalize(inplace=True)\n",
    "print(res)"
   ]
  },
  {
   "cell_type": "markdown",
   "metadata": {
    "id": "DRvdEXYu1iuJ"
   },
   "source": [
    "Use BP to compute the fourth query P(w1,w2|u1=t,u2=t). Note that we cannot do it with the ```get_marginal``` method as it is now. Define a method ```get_marginal_subset``` that receives a list of variables as input and, if they are connected, returns the marginal of the subset. Otherwise, throw an error. Check your result with the one produced by the `BeliefPropagation` class."
   ]
  },
  {
   "cell_type": "markdown",
   "metadata": {},
   "source": [
    "## Another Graph more simple"
   ]
  },
  {
   "attachments": {
    "ec0b702a-3ead-4350-a174-be98e06f5164.png": {
     "image/png": "[encoded data removed]"
    }
   },
   "cell_type": "markdown",
   "metadata": {},
   "source": [
    "![image.png](attachment:ec0b702a-3ead-4350-a174-be98e06f5164.png)"
   ]
  },
  {
   "cell_type": "code",
   "execution_count": 15,
   "metadata": {},
   "outputs": [],
   "source": [
    "from pgmpy.models import FactorGraph\n",
    "from pgmpy.factors.discrete import DiscreteFactor\n",
    "\n",
    "variables = [\"a\", \"b\", \"c\"]\n",
    "p = dict()\n",
    "p[\"a\"] = DiscreteFactor(variables=[\"a\"],\n",
    "                         cardinality=[2],\n",
    "                         values=[0.5, 0.5]\n",
    "                         )\n",
    "p[\"b|a\"] = DiscreteFactor(variables=[\"a\", \"b\"],\n",
    "                           cardinality=[2,2],\n",
    "                           values=[0.7, 0.3,\n",
    "                                   0.3, 0.7])\n",
    "p[\"c|a\"] = DiscreteFactor(variables=[\"a\", \"c\"],\n",
    "                           cardinality=[2,2],\n",
    "                           values=[0.7, 0.3,\n",
    "                                   0.3, 0.7])\n",
    "# Crear el grafo de factores\n",
    "FG = FactorGraph()\n",
    "\n",
    "# Agregar los nodos al grafo\n",
    "FG.add_nodes_from(variables)\n",
    "\n",
    "# Crear factores\n",
    "factor_A = p[\"a\"]\n",
    "factor_ABC = p[\"b|a\"] * p[\"c|a\"]\n",
    "\n",
    "# Agregar factores\n",
    "FG.add_factors(factor_A)\n",
    "FG.add_factors(factor_ABC)\n",
    "\n",
    "# Enlazar nodos\n",
    "FG.add_edge(\"a\", factor_A)\n",
    "FG.add_edge(\"a\", factor_ABC)\n",
    "FG.add_edge(\"b\", factor_ABC)\n",
    "FG.add_edge(\"c\", factor_ABC)\n"
   ]
  },
  {
   "cell_type": "code",
   "execution_count": 16,
   "metadata": {},
   "outputs": [
    {
     "name": "stdout",
     "output_type": "stream",
     "text": [
      "Prob a\n",
      "+------+----------+\n",
      "| a    |   phi(a) |\n",
      "+======+==========+\n",
      "| a(0) |   0.5000 |\n",
      "+------+----------+\n",
      "| a(1) |   0.5000 |\n",
      "+------+----------+\n"
     ]
    }
   ],
   "source": [
    "## Checking\n",
    "from pgmpy.inference import BeliefPropagation\n",
    "bp = BeliefPropagation(FG)\n",
    "\n",
    "q = bp.query(variables=['a'])\n",
    "q.normalize()  # IMPORTANT!\n",
    "print(\"Prob a\")\n",
    "print(q)"
   ]
  },
  {
   "cell_type": "code",
   "execution_count": 17,
   "metadata": {},
   "outputs": [
    {
     "name": "stdout",
     "output_type": "stream",
     "text": [
      "Prob a|b=T\n",
      "+------+----------+\n",
      "| a    |   phi(a) |\n",
      "+======+==========+\n",
      "| a(0) |   0.3000 |\n",
      "+------+----------+\n",
      "| a(1) |   0.7000 |\n",
      "+------+----------+\n"
     ]
    }
   ],
   "source": [
    "q = bp.query(variables=['a'], evidence={\"b\":True})\n",
    "q.normalize()\n",
    "print(\"Prob a|b=T\")\n",
    "print(q)"
   ]
  },
  {
   "cell_type": "code",
   "execution_count": 18,
   "metadata": {},
   "outputs": [
    {
     "name": "stdout",
     "output_type": "stream",
     "text": [
      "Prob(a,b) Joint\n",
      "+------+------+------------+\n",
      "| a    | b    |   phi(a,b) |\n",
      "+======+======+============+\n",
      "| a(0) | b(0) |     0.3500 |\n",
      "+------+------+------------+\n",
      "| a(0) | b(1) |     0.1500 |\n",
      "+------+------+------------+\n",
      "| a(1) | b(0) |     0.1500 |\n",
      "+------+------+------------+\n",
      "| a(1) | b(1) |     0.3500 |\n",
      "+------+------+------------+\n"
     ]
    }
   ],
   "source": [
    "q = bp.query(variables=[\"a\",\"b\"])\n",
    "q.normalize()\n",
    "print(\"Prob(a,b) Joint\")\n",
    "print(q)"
   ]
  },
  {
   "cell_type": "markdown",
   "metadata": {},
   "source": [
    "#### Now with our implementation"
   ]
  },
  {
   "cell_type": "code",
   "execution_count": 19,
   "metadata": {},
   "outputs": [
    {
     "name": "stdout",
     "output_type": "stream",
     "text": [
      "Prob A\n",
      "Wroking graph True\n",
      "+------+----------+\n",
      "| a    |   phi(a) |\n",
      "+======+==========+\n",
      "| a(0) |   0.5000 |\n",
      "+------+----------+\n",
      "| a(1) |   0.5000 |\n",
      "+------+----------+\n"
     ]
    }
   ],
   "source": [
    "my_bp = MyBeliefPropagation(FG)\n",
    "\n",
    "print(\"Prob A\")\n",
    "\n",
    "# RECORDAR SEMPRE SETEJAR LA EVIDENCE, PER TEMA DE WORKING GRAPH\n",
    "my_bp.set_evidence({})\n",
    "my_bp.run_bp(root=\"a\")\n",
    "res = my_bp.get_marginal(\"a\")\n",
    "res.normalize(inplace=True)\n",
    "print(res)"
   ]
  },
  {
   "cell_type": "code",
   "execution_count": 20,
   "metadata": {},
   "outputs": [
    {
     "name": "stdout",
     "output_type": "stream",
     "text": [
      "Wroking graph True\n",
      "JOINT --> p[a,b]\n",
      "+------+------+------------+\n",
      "| b    | a    |   phi(b,a) |\n",
      "+======+======+============+\n",
      "| b(0) | a(0) |     0.3500 |\n",
      "+------+------+------------+\n",
      "| b(0) | a(1) |     0.1500 |\n",
      "+------+------+------------+\n",
      "| b(1) | a(0) |     0.1500 |\n",
      "+------+------+------------+\n",
      "| b(1) | a(1) |     0.3500 |\n",
      "+------+------+------------+\n"
     ]
    }
   ],
   "source": [
    "my_bp = MyBeliefPropagation(FG)\n",
    "my_bp.set_evidence({})\n",
    "my_bp.run_bp(root=\"a\")\n",
    "res = my_bp.get_marginal_subset([\"a\",\"b\"])\n",
    "res.normalize(inplace=True)\n",
    "print('JOINT --> p[a,b]')\n",
    "print(res)"
   ]
  },
  {
   "cell_type": "code",
   "execution_count": 21,
   "metadata": {},
   "outputs": [
    {
     "name": "stdout",
     "output_type": "stream",
     "text": [
      "Wroking graph True\n",
      "When knowing B --> p[a|b]\n",
      "+------+----------+\n",
      "| a    |   phi(a) |\n",
      "+======+==========+\n",
      "| a(0) |   0.3000 |\n",
      "+------+----------+\n",
      "| a(1) |   0.7000 |\n",
      "+------+----------+\n"
     ]
    }
   ],
   "source": [
    "my_bp = MyBeliefPropagation(FG)\n",
    "my_bp.set_evidence({\"b\":True})\n",
    "my_bp.run_bp(root=\"a\")\n",
    "res = my_bp.get_marginal_subset([\"a\"])\n",
    "res.normalize(inplace=True)\n",
    "print('When knowing B --> p[a|b]')\n",
    "print(res)"
   ]
  },
  {
   "cell_type": "code",
   "execution_count": 22,
   "metadata": {},
   "outputs": [
    {
     "name": "stdout",
     "output_type": "stream",
     "text": [
      "Wroking graph True\n",
      "When knowing C --> p[a,b|c]\n",
      "+------+------+------------+\n",
      "| b    | a    |   phi(b,a) |\n",
      "+======+======+============+\n",
      "| b(0) | a(0) |     0.2100 |\n",
      "+------+------+------------+\n",
      "| b(0) | a(1) |     0.2100 |\n",
      "+------+------+------------+\n",
      "| b(1) | a(0) |     0.0900 |\n",
      "+------+------+------------+\n",
      "| b(1) | a(1) |     0.4900 |\n",
      "+------+------+------------+\n"
     ]
    }
   ],
   "source": [
    "my_bp = MyBeliefPropagation(FG)\n",
    "my_bp.set_evidence({\"c\":True})\n",
    "my_bp.run_bp(root=\"a\")\n",
    "res = my_bp.get_marginal_subset([\"a\",\"b\"])\n",
    "res.normalize(inplace=True)\n",
    "print('When knowing C --> p[a,b|c]')\n",
    "print(res)"
   ]
  },
  {
   "cell_type": "code",
   "execution_count": 23,
   "metadata": {},
   "outputs": [
    {
     "name": "stdout",
     "output_type": "stream",
     "text": [
      "Wroking graph True\n",
      "Joint --> p[a,b,c]\n",
      "+------+------+------+--------------+\n",
      "| b    | a    | c    |   phi(b,a,c) |\n",
      "+======+======+======+==============+\n",
      "| b(0) | a(0) | c(0) |       0.2450 |\n",
      "+------+------+------+--------------+\n",
      "| b(0) | a(0) | c(1) |       0.1050 |\n",
      "+------+------+------+--------------+\n",
      "| b(0) | a(1) | c(0) |       0.0450 |\n",
      "+------+------+------+--------------+\n",
      "| b(0) | a(1) | c(1) |       0.1050 |\n",
      "+------+------+------+--------------+\n",
      "| b(1) | a(0) | c(0) |       0.1050 |\n",
      "+------+------+------+--------------+\n",
      "| b(1) | a(0) | c(1) |       0.0450 |\n",
      "+------+------+------+--------------+\n",
      "| b(1) | a(1) | c(0) |       0.1050 |\n",
      "+------+------+------+--------------+\n",
      "| b(1) | a(1) | c(1) |       0.2450 |\n",
      "+------+------+------+--------------+\n"
     ]
    }
   ],
   "source": [
    "my_bp = MyBeliefPropagation(FG)\n",
    "my_bp.set_evidence({})\n",
    "my_bp.run_bp(root=\"a\")\n",
    "res = my_bp.get_marginal_subset([\"a\",\"b\",\"c\"])\n",
    "res.normalize(inplace=True)\n",
    "print('Joint --> p[a,b,c]')\n",
    "print(res)"
   ]
  }
 ],
 "metadata": {
  "colab": {
   "provenance": []
  },
  "kernelspec": {
   "display_name": "Python 3 (ipykernel)",
   "language": "python",
   "name": "python3"
  },
  "language_info": {
   "codemirror_mode": {
    "name": "ipython",
    "version": 3
   },
   "file_extension": ".py",
   "mimetype": "text/x-python",
   "name": "python",
   "nbconvert_exporter": "python",
   "pygments_lexer": "ipython3",
   "version": "3.9.12"
  }
 },
 "nbformat": 4,
 "nbformat_minor": 4
}
